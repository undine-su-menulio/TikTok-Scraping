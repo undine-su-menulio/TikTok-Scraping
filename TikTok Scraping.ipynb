{
 "cells": [
  {
   "cell_type": "markdown",
   "metadata": {},
   "source": [
    "# Добро пожаловать!\n",
    "\n",
    "Здравствуйте! Этот файл поможет вам собрать коллекцию публикаций из TikTok.\n",
    "\n",
    "Можно собирать:\n",
    "* коллекцию #Stitch-видео\n",
    "* видео из конкретного аккаунта\n",
    "* видео по тэгу\n",
    "* видео по собранному вручную списку ссылок на TikTok-видео\n",
    "\n",
    "Код собирает:\n",
    "* Уникальные характеристики видео (csv-таблица)\n",
    "* mp4-видеофайлы\n",
    "* моно-wav-аудиофайлы\n",
    "* релевантные тэги (csv-таблица)\n",
    "* граф релевантных тэгов (gexf-файл)\n",
    "\n",
    "Для начала запустите стартовую ячейку для импорта библиотек и инициализации функций.\n",
    "\n",
    "Функция comments_parse_upd не работает ввиду изменения условий доступа к API со стороны TikTok."
   ]
  },
  {
   "cell_type": "markdown",
   "metadata": {},
   "source": [
    "# Стартовая ячейка"
   ]
  },
  {
   "cell_type": "code",
   "execution_count": 1,
   "metadata": {},
   "outputs": [],
   "source": [
    "import os\n",
    "import re\n",
    "import ast\n",
    "import csv\n",
    "import json\n",
    "import time\n",
    "import requests\n",
    "import winsound\n",
    "import pandas as pd\n",
    "import networkx as nx\n",
    "from tqdm import tqdm\n",
    "from numpy import random\n",
    "import moviepy.editor as mp\n",
    "from bs4 import BeautifulSoup\n",
    "from pydub import AudioSegment\n",
    "from selenium import webdriver as wb\n",
    "\n",
    "\n",
    "def get_aweme_id_final (referer):\n",
    "    \n",
    "    ''' Функция принимает на вход ссылку на видео в тиктоке и возвращает его уникальный идентификатор (aweme_id). \n",
    "    Отделяет доменное имя и всё вплоть до слова video — и следующие после aweme_id атрибуты, например, язык.\n",
    "    Подходят и ссылки для ПК, и ссылки на мобильные версии видео.'''\n",
    "    \n",
    "    if 'video' in referer:\n",
    "        aweme_id = int (re.split('video/|\\?lang|%3', referer)[1])\n",
    "    \n",
    "    else:\n",
    "        aweme_id = int (re.split('m.tiktok.com/v/|\\.html', referer)[1])\n",
    "    return aweme_id\n",
    "\n",
    "\n",
    "def stitch_treasury (nickname):\n",
    "    \n",
    "    ''' Функция принимает на вход имя пользователя, для видео которого мы хотим собрать ститчи и тэги. \n",
    "    \n",
    "    Результат работы функции — словарь: {id : [подпись к ссылке/ видео, ссылка на тэг/ видео]}'''\n",
    "\n",
    "    links_treasury = {}\n",
    "\n",
    "    start = 0\n",
    "    link_num = 0\n",
    "\n",
    "    while True:\n",
    "        print ('Стартовая позиция: ', start)\n",
    "        sleeptime = random.uniform(1, 5)\n",
    "        url = f'https://www.google.com/search?q=site:http://tiktok.com+intext:%23stitch+%40{nickname}_&start={start}'\n",
    "        response = requests.get(url) # загружаем DOM ссылки\n",
    "        soup = BeautifulSoup(response.text, 'lxml') # загружаем DOM ссылки\n",
    "        resultset = soup.find_all('a') # отсортировываем только ссылки и сопровождающую их информацию\n",
    "        print ('Загрузили')\n",
    "        # print (url, resultset[0])\n",
    "        break_count = 0\n",
    "        for i in resultset:\n",
    "            post_text = i.find('h3')\n",
    "            link_raw = i['href']\n",
    "            # print (url, post_text, link_raw)\n",
    "            # print (break_count)\n",
    "            if post_text is not None:\n",
    "                print (post_text.text)\n",
    "                pure_link = re.split('q=|&sa=', link_raw)[1] # выделяем саму ссылку из замусоренного URL\n",
    "                pure_link = re.sub(r\"%40\", \"@\", pure_link)\n",
    "                print (pure_link)\n",
    "                link_num = link_num + 1\n",
    "                links_treasury [link_num] = [post_text.text, pure_link]\n",
    "                break_count = break_count + 1\n",
    "        if break_count == 0:\n",
    "            print ('Код завершил свою работу :)')\n",
    "            return links_treasury\n",
    "            break\n",
    "        else:\n",
    "            start = start + 10\n",
    "            print ('Спит', sleeptime, 'секунд')\n",
    "            time.sleep (sleeptime)\n",
    "            print ('Просыпаемся! :)')\n",
    "            \n",
    "            \n",
    "def is_it_a_video (stitch_treasury_dict_result):\n",
    "    \n",
    "    ''' Функция принимает на вход словарь — результат работы функции stitch_treasury — и сортирует его по типу ссылки. \n",
    "    \n",
    "    Возвращает два словаря — с ссылками на видео и ссылками на тэги.\n",
    "    \n",
    "    \"For the love, for laughter I flew up to your arms.\n",
    "    Is it a video? Visions of Gideon\"'''\n",
    "    \n",
    "    tag_num = 0\n",
    "    vid_num = 0\n",
    "    tag_dict = {}\n",
    "    vid_dict = {}\n",
    "    \n",
    "    for i in stitch_treasury_dict_result.items():\n",
    "        #print (i)\n",
    "        if '/amp/tag/' in i[1][1]:\n",
    "            # print ('tag', i[1][1])\n",
    "            tag_dict [tag_num] = [i[1][0], i[1][1]]\n",
    "            tag_num = tag_num + 1\n",
    "        else:\n",
    "            # print ('video', i[1][1])\n",
    "            vid_dict [vid_num] = [i[1][0], i[1][1]]\n",
    "            vid_num = vid_num + 1\n",
    "    return tag_dict, vid_dict\n",
    "\n",
    "\n",
    "\n",
    "def unique_tags_only (tags_visions_of_gideon):\n",
    "    \n",
    "    ''' Функция принимает на вход результат работы функции is_it_a_video, то есть словарь tags_visions_of_gideon с тэгами.\n",
    "    Возвращает список уникальных очищенных тэгов-строк.'''\n",
    "    \n",
    "    taglist = []\n",
    "    for i in tags_visions_of_gideon.items():\n",
    "        # print (re.split('amp/tag/', i[1][1])[1])\n",
    "        taglist.append (re.split('amp/tag/', i[1][1])[1])\n",
    "    taglist = list (set (taglist))\n",
    "    return taglist\n",
    "\n",
    "\n",
    "\n",
    "def unique_list_of_links_nickname (stitch_treasury_links_nickname):\n",
    "    \n",
    "    ''' Функция принимает на вход результат работы функции stitch_treasury, \n",
    "    а именно словарь ссылок, и возвращает список уникальных чистых ссылок '''\n",
    "    \n",
    "    list_of_links = []\n",
    "    for i in stitch_treasury_links_nickname.values():\n",
    "        list_of_links.append (i[1])\n",
    "    list_of_links = list (set (list_of_links))\n",
    "    return list_of_links\n",
    "\n",
    "\n",
    "\n",
    "def comments_parse_upd (referer):\n",
    "    \n",
    "    ''' Функция принимает на вход ссылку на видео в тиктоке ПК-типа (не мобильную) и собирает комментарии к этому видео. \n",
    "    Возвращает: 1 — json-результат, 2 — pandas dataframe с теми же данными.'''\n",
    "    \n",
    "    all_responses = dict ()\n",
    "\n",
    "    ids = 0\n",
    "    cursor = 0\n",
    "    count = 50\n",
    "    offset = 50\n",
    "    aweme_id = get_aweme_id_final (referer) # id видео: взять из URL после video/, но до ?\n",
    "\n",
    "    while True:\n",
    "        \n",
    "#         url = f\"https://www.tiktok.com/api/comment/list/?aid=1988&app_name=tiktok_web&device_platform=web_pc&referer=&root_referer=&user_agent=Mozilla%2F5.0+(Windows+NT+10.0%3B+Win64%3B+x64)+AppleWebKit%2F537.36+(KHTML,+like+Gecko)+Chrome%2F89.0.4389.114+Safari%2F537.36&cookie_enabled=true&screen_width=1280&screen_height=1024&browser_language=ru-RU&browser_platform=Win32&browser_name=Mozilla&browser_version=5.0+(Windows+NT+10.0%3B+Win64%3B+x64)+AppleWebKit%2F537.36+(KHTML,+like+Gecko)+Chrome%2F89.0.4389.114+Safari%2F537.36&browser_online=true&ac=4g&timezone_name=Europe%2FMoscow&page_referer=https:%2F%2Fwww.tiktok.com%2F@russiagreecedata%3Flang%3Dru-RU&priority_region=RU&verifyFp=verify_kmxgwki8_Fxz90IPP_XZwi_4XQs_99TG_AfLnxuB6PQj0&appId=1233&region=RU&appType=m&isAndroid=false&isMobile=false&isIOS=false&OS=windows&did=6926967686699697670&tt-web-region=RU&uid=6890125463646422021&insert_ids=&aweme_id={aweme_id}&cursor={cursor}&count={count}&app_language=ru&current_region=RU&fromWeb=1&channel_id=0&_signature=_02B4Z6wo00901--3IhgAAIDBM.NfazFX5WPvtyaAAJuo33\"\n",
    "        \n",
    "#         payload={}\n",
    "\n",
    "#         headers = {\n",
    "#             'authority': 'www.tiktok.com', # Оставить\n",
    "#             'sec-ch-ua': '\"Google Chrome\";v=\"89\", \"Chromium\";v=\"89\", \";Not A Brand\";v=\"99\"', # ОБНОВИТЬ\n",
    "#             'accept': 'application/json, text/plain, */*', # Оставить\n",
    "#             'sec-ch-ua-mobile': '?0', # Оставить\n",
    "#             'user-agent': 'Mozilla/5.0 (Windows NT 10.0; Win64; x64) AppleWebKit/537.36 (KHTML, like Gecko) Chrome/89.0.4389.114 Safari/537.36', # Оставить\n",
    "#             'sec-fetch-site': 'same-origin', # Оставить\n",
    "#             'sec-fetch-mode': 'cors', # Оставить\n",
    "#             'sec-fetch-dest': 'empty', # Оставить\n",
    "#             'referer': referer,\n",
    "#             'accept-language': 'ru-RU,ru;q=0.9,en-US;q=0.8,en;q=0.7,el;q=0.6,de;q=0.5', # Оставить\n",
    "#             'cookie': 'tt_webid=6926967686699697670; tt_webid_v2=6926967686699697670; ttwid=1%7C-Pf22eSHkgheOiac4U_hfV9E40k3svSTiyUv1fZGyOM%7C1613134207%7Cd8303836d7c5fe59e24af07560fff61efb5176eb152c1e5120c1b920d4eff7b4; passport_csrf_token=3e864d33e1b1774d956c4fc3131de32b; passport_csrf_token_default=3e864d33e1b1774d956c4fc3131de32b; uid_tt=4d5af9958f703f8488679a8462dea4362836c8d4f88a6f2a69440c2f9324505b; uid_tt_ss=4d5af9958f703f8488679a8462dea4362836c8d4f88a6f2a69440c2f9324505b; sid_tt=9075b4eb80838c9247d7933b0a4d4133; sessionid=9075b4eb80838c9247d7933b0a4d4133; sessionid_ss=9075b4eb80838c9247d7933b0a4d4133; store-idc=alisg; store-country-code=ru; sid_guard=9075b4eb80838c9247d7933b0a4d4133%7C1613134227%7C5184000%7CTue%2C+13-Apr-2021+12%3A50%3A27+GMT; odin_tt=574552fa1292cc681daa70c18beef58130563e7cfff3396d9e65f1645a352224814648d17b65e0350f9030f3bd9e4c8790d3ba34ca24697a412f163ef07244fb6f590d6dcc54c6b0efdcca39603366ea; MONITOR_WEB_ID=6926967686699697670; _ga=GA1.2.896708646.1615818649; s_v_web_id=verify_kmxgwki8_Fxz90IPP_XZwi_4XQs_99TG_AfLnxuB6PQj0; tt_csrf_token=x5ogawzb_QDPU8URJixH9b9s; bm_sz=ADB21068722BD627EE1EE0C38FDE98EC~YAAQBiWKUnzY4ap4AQAAQlBTwQvLd+upuHN6BecO9Ng+2Imp5BDqct4ifR2hG/17+NZ4mzN4eYCJVs/UYeS+iPSV2AnrSrdAXrCahVuI3LSEWJDf+hVrA9MMh2YPOZ+nTMRsr/TVHgXNj9JmbVnQZETDu/mWv9+Nqhcfvp6p9cp+P8v3j/M2GAGEezno2DVI; _abck=04D2CF35FC8971153BBDA9F8BF46734C~0~YAAQBiWKUn3Y4ap4AQAAQlBTwQUCSO8USBibWIA50lm98daebhMkM0Czsa/oyQhpxM5k0hVQVRSBfxMxtOvWmw/PYMv+nPXY9I7/3fD8wvNqG52tkz22PEr1p7ELH/gVOfAVKcMpv8AxW/8FA5Rm/sWTqAeFQypRkIkPlOgb26ccymaXPEO28CcWK1iM5YOP/Nf923aVg57k0Z003LU1U3GBxH04Qn05nhzshcx54qsKMfoYGVtzKfg+yTHSaklcy601dzvkLCVAZTBCiLmu/RnlR0f0j/DHqm1jM+qPM2SA1c2Gfc5IgcV55893QeRQlatOEg4OHK3KXSUsuka7bmCfyydXlE5c1E2IbRywntVcoTazcBOSsfSaKgBUhDqnwmnQL3M=~-1~-1~-1; R6kq3TV7=AOFUU8F4AQAAySETBvrdffUN6gvMYn6iXHxTc7QGpNA7mJDIGXXSEY5BL8Hx|1|0|6034076e35c2191645a706fdbab06d8c94a47276; csrf_session_id=beac3f98992342f0a704801619be4c79; bm_mi=D6B551ED62BF8FEB4D2397E7BBEF155C~ssNoNitiYE4k2OFhdM9JcWCLFzXA9dKWBoxZKiaho9ZHc7qt+sz82fLjPWV1DiP8ZDxBncCGjyaT7BBgkbq/BnAV9MyhxCdTrk2WPgfqKu4DM/cPzR4ZoLJyi6lxwkOQBEe6ihKWc1wj+WeHQjkDjRo/x0DStYdQcScb7bITPWRSx8u/I2+CSCzNWbN+GkWKbB1XI3BpaXpbWn6T47ul+jJ9M8Y95ph/DTUkHRWkZQsg1nxZ7DDDPPfVsBteevd2wfeWxj+YftNy81nc997+1w==; bm_sv=1187DCE3972FB6AAC3BA8E427A45891E~GD7NUSYugXnQ3Y5Ck76jPTgn0651fjW/MfXkXv0bABLVIpWdoYoyJbOmA2vmhgi1q/wZzY8Y2wG9IndXLG2VNXkoxKbeVTUT4IybUymp008iV7KTm9ON42lVaTxUKTobb9ycT23YipIPNN+R8uzP7+IB6sMBRJyrALFMCtCj9J4=; ak_bmsc=F948465D81B19B53CE234CBFDB83A9D9528A25055D6A00001E2373601AC2415E~plEbI7L4oaCskK+WFLJZdmdH4thRirF7TVIS8o9MOeT+ioNMU3Yz/3LeabVmNJVotPJ2noOUEmIgjILAviVqzxXGu/a/ycU4JMRfsBWdANxpYbZ7S59tRWVgcl88IArXDFEl21nZkDZwQ41wUuO5dH1Xmw1k3tVInxe436NZxR+RtiV1/Z0dmcULkd4M1bIU2xw7oQWrinn61BRQybZozsC+zwbFFqEeOx0IV7c4Cd3kDxVl2UwiUN2AC7P9FJd/D5uq9hSuvCeZ5XAUaOAXaEz4N94Sy9QHOFgScBM5qlI5BQOY/Y5Z/hnM5klTrEq1ui; cmpl_token=AgQQAPP2F-RMpY-gSj0Gth08-kARWr_Hf4R9YPgcAQ; _abck=04D2CF35FC8971153BBDA9F8BF46734C~-1~YAAQTgo9FyEuor54AQAAH/jcwQUlEZsiD90RHHMoen+BuX9e7nyk+rkYpf0/55FRzRJFyVTmX0M8Zcq9azTNBIUdyxuskB3b1245lyg0Om6+CoECQ8HSZdk3B6BNVb9U+3i8KIV34YtzU3HW4HC1Yg45JqHkWk5gN+7yO1eqC7+6OrWm5dezGxVhVr9e3JgzFDJfihKZZNLJmcH7Mv8z3l2CQNapWNdFjmhNlojpinjHcc9Xdpp8q9QKaI+UyoQfUIX079mYGWpWJC6bmibbyCxbEl9nadukZRMAOKDua3v8LTaHH6xJ+Dp3drl86kSWVQzif6SRf9te93wm3stNDydTuMF9XSoGWJbWwI3BOTKysVDPc65wMoYn/jWgT8hS/JuOOi4=~0~-1~-1'\n",
    "#         }\n",
    "#         # ОБНОВЛЯТЬ КУКИ\n",
    "        \n",
    "\n",
    "#         response = requests.request(\"GET\", url, headers=headers, data=payload)\n",
    "        #url = f\"https://www.tiktok.com/api/comment/list/?aid=1988&app_name=tiktok_web&device_platform=web_pc&referer=&root_referer=&user_agent=Mozilla%2F5.0+(Windows+NT+10.0%3B+Win64%3B+x64)+AppleWebKit%2F537.36+(KHTML,+like+Gecko)+Chrome%2F89.0.4389.114+Safari%2F537.36&cookie_enabled=true&screen_width=1280&screen_height=1024&browser_language=ru-RU&browser_platform=Win32&browser_name=Mozilla&browser_version=5.0+(Windows+NT+10.0%3B+Win64%3B+x64)+AppleWebKit%2F537.36+(KHTML,+like+Gecko)+Chrome%2F89.0.4389.114+Safari%2F537.36&browser_online=true&ac=4g&timezone_name=Europe%2FMoscow&page_referer=https:%2F%2Fwww.tiktok.com%2F@russiagreecedata%3Flang%3Dru-RU&priority_region=RU&verifyFp=verify_kmxgwki8_Fxz90IPP_XZwi_4XQs_99TG_AfLnxuB6PQj0&appId=1233&region=RU&appType=m&isAndroid=false&isMobile=false&isIOS=false&OS=windows&did=6926967686699697670&tt-web-region=RU&uid=6890125463646422021&insert_ids=&aweme_id={aweme_id}&cursor={cursor}&count={count}&app_language=ru&current_region=RU&fromWeb=1&channel_id=0&_signature=_02B4Z6wo00901BMNcDQAAIDCz0kNRKmHE3ATDXSAAGS2dd\"\n",
    "        url = f\"https://www.tiktok.com/api/comment/list/?aid=1988&app_name=tiktok_web&device_platform=web_pc&referer=&root_referer=&user_agent=Mozilla%2F5.0+(Windows+NT+10.0%3B+Win64%3B+x64)+AppleWebKit%2F537.36+(KHTML,+like+Gecko)+Chrome%2F89.0.4389.114+Safari%2F537.36&cookie_enabled=true&screen_width=1280&screen_height=1024&browser_language=ru-RU&browser_platform=Win32&browser_name=Mozilla&browser_version=5.0+(Windows+NT+10.0%3B+Win64%3B+x64)+AppleWebKit%2F537.36+(KHTML,+like+Gecko)+Chrome%2F89.0.4389.114+Safari%2F537.36&browser_online=true&ac=4g&timezone_name=Europe%2FMoscow&priority_region=RU&verifyFp=verify_kmxgwki8_Fxz90IPP_XZwi_4XQs_99TG_AfLnxuB6PQj0&appId=1233&region=RU&appType=m&isAndroid=false&isMobile=false&isIOS=false&OS=windows&did=6926967686699697670&tt-web-region=RU&uid=6890125463646422021&insert_ids=&aweme_id={aweme_id}&cursor={cursor}&count={count}&app_language=ru&current_region=RU&fromWeb=1&channel_id=0&_signature=_02B4Z6wo00901BMNcDQAAIDCz0kNRKmHE3ATDXSAAGS2dd\"\n",
    "\n",
    "        payload={}\n",
    "        headers = {\n",
    "          'authority': 'www.tiktok.com',\n",
    "          'sec-ch-ua': '\"Google Chrome\";v=\"89\", \"Chromium\";v=\"89\", \";Not A Brand\";v=\"99\"',\n",
    "          'accept': 'application/json, text/plain, */*',\n",
    "          'sec-ch-ua-mobile': '?0',\n",
    "          'user-agent': 'Mozilla/5.0 (Windows NT 10.0; Win64; x64) AppleWebKit/537.36 (KHTML, like Gecko) Chrome/89.0.4389.114 Safari/537.36',\n",
    "          'sec-fetch-site': 'same-origin',\n",
    "          'sec-fetch-mode': 'cors',\n",
    "          'sec-fetch-dest': 'empty',\n",
    "          'referer': f'https://www.tiktok.com/@torryhermann/video/{aweme_id}?is_copy_url=1&is_from_webapp=v1',\n",
    "          'accept-language': 'ru-RU,ru;q=0.9,en-US;q=0.8,en;q=0.7,el;q=0.6,de;q=0.5',\n",
    "          'cookie': 'tt_webid=6926967686699697670; tt_webid_v2=6926967686699697670; ttwid=1%7C-Pf22eSHkgheOiac4U_hfV9E40k3svSTiyUv1fZGyOM%7C1613134207%7Cd8303836d7c5fe59e24af07560fff61efb5176eb152c1e5120c1b920d4eff7b4; passport_csrf_token=3e864d33e1b1774d956c4fc3131de32b; passport_csrf_token_default=3e864d33e1b1774d956c4fc3131de32b; uid_tt=4d5af9958f703f8488679a8462dea4362836c8d4f88a6f2a69440c2f9324505b; uid_tt_ss=4d5af9958f703f8488679a8462dea4362836c8d4f88a6f2a69440c2f9324505b; sid_tt=9075b4eb80838c9247d7933b0a4d4133; sessionid=9075b4eb80838c9247d7933b0a4d4133; sessionid_ss=9075b4eb80838c9247d7933b0a4d4133; store-idc=alisg; store-country-code=ru; sid_guard=9075b4eb80838c9247d7933b0a4d4133%7C1613134227%7C5184000%7CTue%2C+13-Apr-2021+12%3A50%3A27+GMT; odin_tt=574552fa1292cc681daa70c18beef58130563e7cfff3396d9e65f1645a352224814648d17b65e0350f9030f3bd9e4c8790d3ba34ca24697a412f163ef07244fb6f590d6dcc54c6b0efdcca39603366ea; MONITOR_WEB_ID=6926967686699697670; _ga=GA1.2.896708646.1615818649; s_v_web_id=verify_kmxgwki8_Fxz90IPP_XZwi_4XQs_99TG_AfLnxuB6PQj0; tt_csrf_token=x5ogawzb_QDPU8URJixH9b9s; R6kq3TV7=AOFUU8F4AQAAySETBvrdffUN6gvMYn6iXHxTc7QGpNA7mJDIGXXSEY5BL8Hx|1|0|6034076e35c2191645a706fdbab06d8c94a47276; csrf_session_id=beac3f98992342f0a704801619be4c79; cmpl_token=AgQQAPP2F-RMpY-gSj0Gth08-kARWr_Hf4R9YPgdmA; ak_bmsc=368058937B79C7892D4DBD6CC89AC0AC528A25064D69000056457360D43C9F2B~pl0Fr2xXrkku2YXnVEk4ux5DAZSTelS0Osuue1JJplM36DnLhFCKvEEe3QQbDHPdJMuCKAljoEauMtBXGZcN2HeGXN2bc2zjQv4q0H6t7USIc9t6+ctj3CGNdeH7gRr60dllN5oLsFgjMkbFdfW1rh0txesB5zDJwQAVzghKf1pUSC38eGy0J43FyTFP9OgxMwMRLLCtBguTWRBiOAW4zYQVrpSJKWxlGvWv04JlqrVrw=; bm_sz=EDA3400A71179526978EF0F92F08F815~YAAQBiWKUkDk4ap4AQAA4dpGwgtI58QKsqY8/q18duFc0HUMDYRSxh8cKr9CHfHSiGuIVLjC4eXgCMeZUETXJcTlaFdayuJaky6ZCWyh2b5RgWl6gVfTXT2iONXpqdjXvfd9CBZTIYjW3ZN1c+LCGnyoZVoBK9LuSea77Ja3GS9TicVIjaHwCLA870B8lXFl; _abck=04D2CF35FC8971153BBDA9F8BF46734C~0~YAAQBiWKUkHk4ap4AQAA4dpGwgWrck/+ikbp/ehtYZUeeH23GSF+W2a5tsb3WJfa7MoBM4ozxoW9BOHUgNh/E2dsO/rKGNzWvweGyx6Amycz7jiGy+Y556QzailrBRd+3q0gZ2lYt1Lt071nqe7NrFM3nreY0WRN2ISkk9OkO1XZJ0EiYAXyB6P4vULDOGGJOmOlGrds844XfoWv6iySYmnr6D91r3UOGMJLz3zAfURfFMYHXaK3mCCZv7ELlWFowpPBTFjIHeFwGdeBK4yDCV/KlsknlckFRfJ/bwZSPdQTxf8sX47RNsFDf7Ejg6D143FizWD2NjG4kSycIl0FTLEjSVnns3P5ccH4j9cACcTf0aj7nZCqzOQ9ousVjd0xlCmP8Tg=~-1~-1~-1; bm_sv=03B75C5F4A54EE9AC1BC7254B975104A~NAeI1AwynosACdbeChQSiOWGjyUqneR+5Ohqi8QXAYMUgczVmCXkqyRtyiSLq5tCRUmh/tp0WfVRkXPJxeqyx5dyrIv0UnUVfgRucVsveeq5OR5rxEvfmWv+O4fc24kHXLsx+A+UazQxB/Iarf1RezVleFxN4zzmNjpHCEso9bI=; _abck=04D2CF35FC8971153BBDA9F8BF46734C~-1~YAAQuMbPF2OsmHJ4AQAADkZSwgVjDq8P+T7yD70j/zaJqSOwF9qjlVq540Q4YcT5LTgeazCRwG+AahZX0SI7Yuj3J9V28Xr5+HeIugvD3xfU5xI+FaGeVcv4YA2qJQ6K3sHe6wqwJZPslk9SywLvqXpnPOUw3riBdqTjul2ZNlxemLe4hT9Cjs5PZmm7I7ucYGj8GPQDbq2uVxDpk1a5M/25tNZFNmEh5NhEB3U8kzd1PiuIK+7aJfEh5VrukE5DioEswm40vX2YMAPCr9bTkhZaRlkkrwJRGWplUj3U/+eIbtELir3K4xkXrOOgQ8wWcU3jg7SF1lvXtyb30Rzgiew071wkP+BjOPnN8JKwkrf6oWwisX/imeefvFgzPyNySFqoad0=~0~-1~-1'\n",
    "        }\n",
    "        \n",
    "        response = requests.request(\"GET\", url, headers=headers, data=payload)\n",
    "        \n",
    "        print (response.text)\n",
    "\n",
    "        time.sleep(random.uniform(2, 6))\n",
    "\n",
    "        try:\n",
    "            if len (response.json()['comments']) < 50:\n",
    "                for i in response.json()['comments']:\n",
    "                    all_responses [ids] = i\n",
    "                    ids = ids + 1\n",
    "                print (len (response.json()['comments']))\n",
    "                print ('Это конец')\n",
    "                break\n",
    "            else:\n",
    "                for i in response.json()['comments']:\n",
    "                    all_responses [ids] = i\n",
    "                    ids = ids + 1\n",
    "                count = count + offset\n",
    "                cursor = cursor + offset\n",
    "                print (len (response.json()['comments']))\n",
    "                print ('Это не конец')\n",
    "                continue\n",
    "        \n",
    "        except TypeError:   # Код уходит на эту ошибку, если число комментариев — ровно 50\n",
    "                            # Он делает новую итерацию и получает пустоту\n",
    "                            # Поэтому мы возвращаем cursor и count к прежним значениям\n",
    "                \n",
    "            print ('НЕ ПО ПЛАНУ')\n",
    "            count = count - offset\n",
    "            cursor = cursor - offset\n",
    "            url = f\"https://www.tiktok.com/api/comment/list/?aid=1988&app_name=tiktok_web&device_platform=web_pc&referer=&root_referer=&user_agent=Mozilla%2F5.0+(Windows+NT+10.0%3B+Win64%3B+x64)+AppleWebKit%2F537.36+(KHTML,+like+Gecko)+Chrome%2F87.0.4280.141+Safari%2F537.36&cookie_enabled=true&screen_width=1280&screen_height=1024&browser_language=ru-RU&browser_platform=Win32&browser_name=Mozilla&browser_version=5.0+(Windows+NT+10.0%3B+Win64%3B+x64)+AppleWebKit%2F537.36+(KHTML,+like+Gecko)+Chrome%2F87.0.4280.141+Safari%2F537.36&browser_online=true&ac=4g&timezone_name=Europe%2FMoscow&page_referer=https:%2F%2Fwww.tiktok.com%2F@russiagreecedata%3Flang%3Dru-RU&priority_region=RU&verifyFp=verify_kk14bgxh_Ey7Ty0Nw_0w04_4iQX_8eBP_rzF6PEPNP7NM&appId=1233&region=RU&appType=m&isAndroid=false&isMobile=false&isIOS=false&OS=windows&did=6916212750071776773&tt-web-region=RU&uid=6890125463646422021&insert_ids=&aweme_id={aweme_id}&cursor={cursor}&count={count}&app_language=ru&current_region=RU&fromWeb=1&channel_id=0&_signature=_02B4Z6wo00901zALRiwAAIDB7E87Xdu9mQMwCkKAAKwR47\"\n",
    "            response = requests.request(\"GET\", url, headers=headers, data=payload)\n",
    "            for i in response.json()['comments']:\n",
    "                all_responses [ids] = i\n",
    "                ids = ids + 1\n",
    "            print (len (response.json()['comments']))\n",
    "            print ('Это конец')\n",
    "            break\n",
    "        \n",
    "        except KeyError:\n",
    "            try:\n",
    "                if response.json()['status_msg'] == 'Вы вышли из аккаунта':\n",
    "                    print ('Кажется, Вы вышли из аккаунта, поменяйте входные данные — cookie и sec-ch-ua в headers')\n",
    "                else:\n",
    "                    print (response.json()['status_msg'])\n",
    "            except:\n",
    "                raise KeyError\n",
    "            print ('Код прекращает работу')\n",
    "            break\n",
    "            \n",
    "    all_responses_copy = all_responses.copy()\n",
    "\n",
    "    for i in all_responses.values():\n",
    "        if i ['reply_comment'] is not None:\n",
    "            for k in i['reply_comment']:\n",
    "                all_responses_copy [ids] = k\n",
    "                ids = ids + 1\n",
    "                if k['reply_comment'] is not None:\n",
    "                    print ('O wow!')\n",
    "                    for z in k['reply_comment']:\n",
    "                        all_responses_copy [ids] = z\n",
    "                        ids = ids + 1\n",
    "    \n",
    "    response_df = pd.DataFrame.from_dict (all_responses_copy).T\n",
    "    return all_responses_copy, response_df\n",
    "\n",
    "\n",
    "def quick_check (all_links_to_parse):\n",
    "    \n",
    "    ''' Функция принимает на вход список ссылок на TikTok-видео, проверяет их валидность \n",
    "    (продолжает ли видео находиться в открытом доступе, или же оно скрыто/ удалено) и возвращает список проверенных ссылок. '''\n",
    "\n",
    "    for referer in tqdm (all_links_to_parse):\n",
    "        \n",
    "        payload={}\n",
    "        headers = {\n",
    "          'authority': 'www.tiktok.com',\n",
    "          'x-kl-ajax-request': 'Ajax_Request',\n",
    "          'accept': 'application/json, text/plain, */*',\n",
    "          'sec-ch-ua-mobile': '?0',\n",
    "          'user-agent': 'Mozilla/5.0 (Windows NT 10.0; Win64; x64) AppleWebKit/537.36 (KHTML, like Gecko) Chrome/87.0.4280.141 Safari/537.36',\n",
    "          'sec-ch-ua': '\"Google Chrome\";v=\"87\", \" Not;A Brand\";v=\"99\", \"Chromium\";v=\"87\"',\n",
    "          'sec-fetch-site': 'same-origin',\n",
    "          'sec-fetch-mode': 'cors',\n",
    "          'sec-fetch-dest': 'empty',\n",
    "          'referer': referer,\n",
    "          'accept-language': 'ru-RU,ru;q=0.9,en-US;q=0.8,en;q=0.7,el;q=0.6,de;q=0.5',\n",
    "          'cookie': 'tt_webid_v2=6916212750071776773; tt_webid=6916212750071776773; ttwid=1%7CcdWyZ48EUgYhNscoWjjs4-x_r5maVNmW9iawlop2cNU%7C1610798758%7C6f5d0da3f04946eeaf6ced45118b69fd8ae2fea758073e919b5f6a01e8285087; passport_csrf_token=e5df83bd420baf05772ded41579ebfad; passport_csrf_token_default=e5df83bd420baf05772ded41579ebfad; store-idc=alisg; store-country-code=ru; cmpl_token=AgQQAPP2F-RO0o-gSj0Gth08xZrL6ZCRf4d9YPo--g; sid_guard=e6c07d4a41d789c3a181163cba66673e%7C1610804042%7C5184000%7CWed%2C+17-Mar-2021+13%3A34%3A02+GMT; uid_tt=a4d5703ef83f07ca07cd0a278b14c4dbf85e372027e33d5605b4cb6018b791b9; uid_tt_ss=a4d5703ef83f07ca07cd0a278b14c4dbf85e372027e33d5605b4cb6018b791b9; sid_tt=e6c07d4a41d789c3a181163cba66673e; sessionid=e6c07d4a41d789c3a181163cba66673e; sessionid_ss=e6c07d4a41d789c3a181163cba66673e; MONITOR_WEB_ID=6916212750071776773; tt_csrf_token=GPy9U4CN50q1WNOtsFtAXWu-; s_v_web_id=verify_kk14bgxh_Ey7Ty0Nw_0w04_4iQX_8eBP_rzF6PEPNP7NM; csrf_session_id=a0f71447990040f7a19b35e99c980613; odin_tt=ba60c4b6907072ee26ad5b2462547eea1e16da5e658698dae644227ead9b99850d405faf8246f2d1e9087a40287e9af988a24c4ce98107ebed7edbbf8a3909636884ee832bd5e3252181f720a8b0512b'\n",
    "        }\n",
    "        \n",
    "        try:\n",
    "            response = requests.request(\"GET\", referer, headers=headers, data=payload)\n",
    "            if response.status_code == 404:\n",
    "                print ('Видео по ссылке больше не доступно, и мы удаляем его из выборки')\n",
    "                all_links_to_parse.remove (referer)\n",
    "                time.sleep(random.uniform(0.5, 2))\n",
    "            elif response.status_code == 200:\n",
    "                time.sleep(random.uniform(0.5, 2))\n",
    "                pass\n",
    "        except:\n",
    "            print ('Некорректная ссылка, пропускаем')\n",
    "            pass\n",
    "            \n",
    "    return all_links_to_parse\n",
    "\n",
    "def unique_characteristics (referer):\n",
    "    \n",
    "    ''' Функция позволяет собирать уникальную информацию о видео, как то:\n",
    "    1. уникальный идентификатор видео (aweme_id)\n",
    "    2. подпись к видео (description)\n",
    "    3. время публикации в формате timestamp (timestamp_create_time)\n",
    "    4. время публикации в человекочитаемом формате (type = string) (date)\n",
    "    5. id автора видео (author_id)\n",
    "    6. имя автора видео (author_name)\n",
    "    7. никнейм автора (author_nickname)\n",
    "    8. музыку в видео (music)\n",
    "    9. лайки (likes)\n",
    "    10. шеры (shares)\n",
    "    11. комментарии (comments)\n",
    "    12. просмотры (views)\n",
    "    13. надписи на стикерах в видео (если есть) (sticker_text)\n",
    "    14. ссылка на оригинальное видео, на которое был сделан ститч или дуэт (stitched_original_link).\n",
    "    \n",
    "    Функция возвращает список этих элементов. \n",
    "    В списке на втором месте, после aweme_id, ссылка на это видео. '''\n",
    "    \n",
    "    aweme_id = get_aweme_id_final (referer) # id видео: взять из URL после video/, но до ?\n",
    "\n",
    "    payload={}\n",
    "    headers = {\n",
    "      'authority': 'www.tiktok.com',\n",
    "      'x-kl-ajax-request': 'Ajax_Request',\n",
    "      'accept': 'application/json, text/plain, */*',\n",
    "      'sec-ch-ua-mobile': '?0',\n",
    "      'user-agent': 'Mozilla/5.0 (Windows NT 10.0; Win64; x64) AppleWebKit/537.36 (KHTML, like Gecko) Chrome/87.0.4280.141 Safari/537.36',\n",
    "      'sec-ch-ua': '\"Google Chrome\";v=\"87\", \" Not;A Brand\";v=\"99\", \"Chromium\";v=\"87\"',\n",
    "      'sec-fetch-site': 'same-origin',\n",
    "      'sec-fetch-mode': 'cors',\n",
    "      'sec-fetch-dest': 'empty',\n",
    "      'referer': referer,\n",
    "      'accept-language': 'ru-RU,ru;q=0.9,en-US;q=0.8,en;q=0.7,el;q=0.6,de;q=0.5',\n",
    "      'cookie': 'tt_webid_v2=6916212750071776773; tt_webid=6916212750071776773; ttwid=1%7CcdWyZ48EUgYhNscoWjjs4-x_r5maVNmW9iawlop2cNU%7C1610798758%7C6f5d0da3f04946eeaf6ced45118b69fd8ae2fea758073e919b5f6a01e8285087; passport_csrf_token=e5df83bd420baf05772ded41579ebfad; passport_csrf_token_default=e5df83bd420baf05772ded41579ebfad; store-idc=alisg; store-country-code=ru; cmpl_token=AgQQAPP2F-RO0o-gSj0Gth08xZrL6ZCRf4d9YPo--g; sid_guard=e6c07d4a41d789c3a181163cba66673e%7C1610804042%7C5184000%7CWed%2C+17-Mar-2021+13%3A34%3A02+GMT; uid_tt=a4d5703ef83f07ca07cd0a278b14c4dbf85e372027e33d5605b4cb6018b791b9; uid_tt_ss=a4d5703ef83f07ca07cd0a278b14c4dbf85e372027e33d5605b4cb6018b791b9; sid_tt=e6c07d4a41d789c3a181163cba66673e; sessionid=e6c07d4a41d789c3a181163cba66673e; sessionid_ss=e6c07d4a41d789c3a181163cba66673e; MONITOR_WEB_ID=6916212750071776773; tt_csrf_token=GPy9U4CN50q1WNOtsFtAXWu-; s_v_web_id=verify_kk14bgxh_Ey7Ty0Nw_0w04_4iQX_8eBP_rzF6PEPNP7NM; csrf_session_id=a0f71447990040f7a19b35e99c980613; odin_tt=ba60c4b6907072ee26ad5b2462547eea1e16da5e658698dae644227ead9b99850d405faf8246f2d1e9087a40287e9af988a24c4ce98107ebed7edbbf8a3909636884ee832bd5e3252181f720a8b0512b'\n",
    "    }\n",
    "\n",
    "    response = requests.request(\"GET\", referer, headers=headers, data=payload)\n",
    "    soup = BeautifulSoup(response.text, 'lxml') # загружаем DOM ссылки\n",
    "    txt = soup.find_all('script', {'type':'application/json'})[0].text\n",
    "\n",
    "    for_info = json.loads(txt)['props']['pageProps']['itemInfo']['itemStruct']\n",
    "    aweme_id = for_info ['id']\n",
    "    description = for_info ['desc']\n",
    "    timestamp_create_time = for_info ['createTime']\n",
    "    ts = time.gmtime(timestamp_create_time)\n",
    "    date = time.strftime(\"%d.%m.%Y\", ts)\n",
    "    author_id = for_info ['author']['id']\n",
    "    author_name = for_info ['author']['nickname']\n",
    "    author_nickname = for_info ['author']['uniqueId']\n",
    "    music = for_info ['music']['title']\n",
    "    likes = for_info ['stats']['diggCount']\n",
    "    shares = for_info ['stats']['shareCount']\n",
    "    comments = for_info ['stats']['commentCount']\n",
    "    views = for_info ['stats']['playCount']\n",
    "    try:\n",
    "        raw_sticker_text = for_info ['stickersOnItem'][0]['stickerText']\n",
    "        sticker_text = ''\n",
    "        for i in raw_sticker_text:\n",
    "             sticker_text = ' '.join ((sticker_text, i))\n",
    "    except IndexError:\n",
    "        sticker_text = ''\n",
    "    stitched_original_aweme_id = for_info ['textExtra'][0]['awemeId']\n",
    "    stitched_original_creator = for_info ['textExtra'][0]['userUniqueId']\n",
    "    stitched_original_link = ''\n",
    "    if (stitched_original_aweme_id != '') & (stitched_original_creator != ''):\n",
    "        stitched_original_link = 'https://www.tiktok.com/@' + stitched_original_creator + '/video/' + stitched_original_aweme_id\n",
    "    row = [aweme_id, referer, description, timestamp_create_time, date, author_id, author_name, author_nickname, music,\n",
    "          likes, shares, comments, views, sticker_text, stitched_original_link]\n",
    "    return row\n",
    "\n",
    "\n",
    "\n",
    "def change_line_break (text):\n",
    "    \n",
    "    ''' Функция принимает на вход текст и заменяет в нём переносы строк на пробелы.  '''\n",
    "    \n",
    "    if '\\n' in text: \n",
    "        text = text.replace ('\\n', ' ')\n",
    "    return text\n",
    "\n",
    "\n",
    "\n",
    "def drop_hashtag (text):\n",
    "    \n",
    "    ''' Функция принимает на вход текст и удаляет в нём символ хэштега (#).  '''\n",
    "    \n",
    "    if '#' in text: \n",
    "        text = text.replace ('#', '')\n",
    "    return text\n",
    "\n",
    "\n",
    "\n",
    "def user_minimum_from_dicts (user_data):\n",
    "    \n",
    "    ''' Функция сокращает данные пользователя, оставившего комментарий, до имени, ника и sec_uid. \n",
    "    Принимает на вход словарь ({}) и возвращает словарь с тремя ключами'''\n",
    "    \n",
    "    new_dict = {}\n",
    "    new_dict ['nickname'] = user_data ['nickname']\n",
    "    new_dict ['unique_id'] = user_data ['unique_id']\n",
    "    new_dict ['sec_uid'] = user_data ['sec_uid']\n",
    "    return new_dict\n",
    "\n",
    "\n",
    "\n",
    "def clear_comments_table_user_dict_without_saving (comments_table_to_upd):\n",
    "    \n",
    "    ''' Функция принимает на вход грязный пандас датафрейм с комментариями (comments_table_to_upd).\n",
    "    Возвращает чистый и аккуратный датафрейм.\n",
    "    В отличие от функции clear_comments_table, которая работает с датасетами, загруженными из csv-файла,\n",
    "    эта функция работает с датасетами, которые получены прямо в ходе парсинга,\n",
    "    то есть с теми, у которых в столбце user словари, а не строки.'''\n",
    "    \n",
    "    comments_table_to_upd ['text'] = comments_table_to_upd ['text'].apply (change_line_break)\n",
    "#     comments_table_to_be_clear = comments_table_to_upd.drop (['comment_type', 'reply_to_reply_id', 'status', \n",
    "#                                                               'stick_position', 'text_extra', 'user_buried', 'user_digged'], \n",
    "#                                                              axis = 1)\n",
    "    columns_list_for_drop = ['comment_type', 'reply_to_reply_id', 'status', 'stick_position', 'text_extra', \n",
    "                         'user_buried', 'user_digged']\n",
    "    for every_column in columns_list_for_drop:\n",
    "        if every_column in comments_table_to_upd.columns:\n",
    "            comments_table_to_be_clear = comments_table_to_upd.drop (every_column, axis = 1)\n",
    "        else:\n",
    "            pass\n",
    "    comments_table_to_be_clear ['user'] = comments_table_to_be_clear ['user'].apply (user_minimum_from_dicts)\n",
    "    comments_table_to_be_clear ['user_nickname'] = [d.get('nickname') for d in comments_table_to_be_clear ['user']]\n",
    "    comments_table_to_be_clear ['user_unique_id'] = [d.get('unique_id') for d in comments_table_to_be_clear ['user']]\n",
    "    comments_table_to_be_clear ['user_sec_uid'] = [d.get('sec_uid') for d in comments_table_to_be_clear ['user']]\n",
    "    ts = [time.gmtime(i) for i in comments_table_to_be_clear ['create_time']]\n",
    "    comments_table_to_be_clear ['date'] = [time.strftime(\"%d.%m.%Y\", i) for i in ts]\n",
    "    return comments_table_to_be_clear\n",
    "\n",
    "\n",
    "\n",
    "def hashtags (text):\n",
    "    \n",
    "    ''' Принимает на вход текст и возвращает список хэштегов из него. '''\n",
    "    \n",
    "    list_of_hashtags = re.findall(r'#\\w+', text)\n",
    "    if '#stitch' in list_of_hashtags:\n",
    "        list_of_hashtags.remove('#stitch')\n",
    "    return list_of_hashtags\n",
    "\n",
    "\n",
    "\n",
    "def stitches_parsing_workflow ():\n",
    "    \n",
    "    ''' Функция просит пользователя ввести ник TikTok-аккаунта, автора видео, ститчи по которому нужно собрать. \n",
    "    Функция ничего не возвращает, но:\n",
    "    1. Создаёт папку по имени ника пользователя (автора оригинального видео)\n",
    "    2. Сохраняет в папку все ссылки на заститченные видео, которые находятся через Google-поиск, как csv-файл\n",
    "    3. Сохраняет в папку уникальные характеристики этих видео как csv-файл \n",
    "    4. Сохраняет в папку датасет с комментариями к этим видео как csv-файл\n",
    "    5. Сохраняет в папку список релевантных тэгов из результатов Google-поиска и из подписей к видео как csv-файл \n",
    "    с указанием источника, откуда получен тэг (Google/ caption/ caption_internal_links)\n",
    "    6. Сохраняет в папку тот же список без указания источника, откуда получен тэг, \n",
    "    как gexf-файл для удобного преобразования в граф\n",
    "    \n",
    "    В целом функция выполняется около 15 минут.\n",
    "    Код издаёт звук, когда завершает работу. '''\n",
    "    \n",
    "    nickname_stitch_needed = input ('Введите ник пользователя, для видео которого нужны ститчи: ')\n",
    "    \n",
    "    try:\n",
    "        path = os.path.join (os.getcwd(), nickname_stitch_needed)\n",
    "        os.mkdir (path)\n",
    "    except OSError:\n",
    "        print ('Creation of the directory %s failed' % path)\n",
    "    else:\n",
    "        print ('Successfully created the directory %s' % path)\n",
    "    print (f'Папка {nickname_stitch_needed} успешно создана в текущей директории')\n",
    "    \n",
    "    print ('Начинаем сбор ссылок на видео и тэги из Google-поиска')\n",
    "    stitch_treasury_result = is_it_a_video (stitch_treasury (nickname_stitch_needed))\n",
    "    print ('Собрали ссылки на видео и тэги из Google-поиска')\n",
    "    \n",
    "    print ('Выделяем из результатов тэги')\n",
    "    tags_nickname = unique_tags_only (stitch_treasury_result [0])\n",
    "    with open (os.path.join (path, f'{nickname_stitch_needed}_tags.csv'), 'w', newline = '') as tags:\n",
    "        writer = csv.writer (tags, delimiter = \",\")\n",
    "        writer.writerow (['original_hashtag', 'relative_hashtag', 'source']) \n",
    "        for i in tags_nickname:\n",
    "            print (i)\n",
    "            writer.writerow ([f'stitch with @{nickname_stitch_needed}', i, 'Google'])\n",
    "    print ('Записали первую часть тэгов в файл')\n",
    "    \n",
    "    print ('Выделяем все ссылки на видео для парсинга')\n",
    "    links_nickname = stitch_treasury_result [1]\n",
    "    all_links_to_parse = unique_list_of_links_nickname (links_nickname)\n",
    "    all_links_to_parse = quick_check (all_links_to_parse)\n",
    "    with open (os.path.join (path, f'{nickname_stitch_needed}_links.csv'), 'w', newline = '') as links:\n",
    "        writer = csv.writer (links, delimiter = \",\")\n",
    "        for i in all_links_to_parse:\n",
    "            writer.writerow (i.split())\n",
    "    print ('Сохранили все ссылки в файл')\n",
    "\n",
    "    print ('Приступаем к парсингу уникальных характеристик видео')\n",
    "    print ('Не переживайте, процесс может занять некоторое время')\n",
    "    row_titles = ['aweme_id', 'link', 'description', 'timestamp_create_time', 'date', 'author_id', 'author_name', \n",
    "                  'author_nickname', 'music', 'likes', 'shares', 'comments', 'views', 'sticker_text', 'stitched_original_link']\n",
    "    unique_char_table = pd.DataFrame (columns = row_titles)\n",
    "    for i in tqdm (all_links_to_parse, position=0, leave=True):\n",
    "        un_char = unique_characteristics (i)\n",
    "        unique_char_table.loc [len (unique_char_table)] = un_char # Добавляем ряд к датафрейму\n",
    "        time.sleep (random.uniform(2, 6))\n",
    "    unique_char_table ['hashtags'] = unique_char_table ['description'].apply (hashtags)\n",
    "    unique_char_table.to_csv (os.path.join (path, f'{nickname_stitch_needed}_unique_characteristics.csv'))\n",
    "    print ('Записали уникальные характеристики видео в файл')\n",
    "    \n",
    "#     print ('Приступаем к парсингу комментариев для видео')\n",
    "#     print ('Не переживайте, процесс может занять некоторое время')\n",
    "#     print ('Сложив числа между двумя плашками прогресса, вы можете навскидку сказать,') \n",
    "#     print ('сколько примерно комментариев под видео, которое парсится на данный момент.')\n",
    "#     print ('То есть если вы видите: \"50 Это не конец 49 Это конец\", то у видео больше 50, но меньше 100 комментариев')\n",
    "    \n",
    "#     comments_table = pd.DataFrame ()\n",
    "#     for i in tqdm (all_links_to_parse, position=0, leave=True):\n",
    "#         video_comments = comments_parse_upd (i)\n",
    "#         comments_table = comments_table.append (video_comments[1], ignore_index = True)\n",
    "#     comments_table_to_save = clear_comments_table_user_dict_without_saving (comments_table)\n",
    "#     comments_table_to_save.to_csv (os.path.join (path, f'{nickname_stitch_needed}_comments_table.csv'), sep = ';')\n",
    "#     print ('Почистили таблицу комментариев и записали в файл')\n",
    "    \n",
    "    print ('Приступаем к сбору тэгов из подписей к видео')\n",
    "    with open (os.path.join (path, f'{nickname_stitch_needed}_tags.csv'), 'a', newline = '', encoding = 'utf-8') as tags:\n",
    "        writer = csv.writer (tags, delimiter = \",\")\n",
    "        for i in unique_char_table ['hashtags']:\n",
    "            for j in i:\n",
    "                print (j)\n",
    "                writer.writerow ([f'stitch with @{nickname_stitch_needed}', drop_hashtag (j), 'caption'])\n",
    "            for a in range (len (i)):\n",
    "                for b in range (a + 1, len (i)):\n",
    "                    writer.writerow ([drop_hashtag (i[a]), drop_hashtag (i[b]), 'caption_internal_links'])\n",
    "    print ('Записали вторую часть тэгов в файл')\n",
    "    \n",
    "    print ('Превращаем csv-файл тэгов в gexf-файл для создания графа')\n",
    "    tags_to_gexf = pd.read_csv (os.path.join (path, f'{nickname_stitch_needed}_tags.csv'), encoding = 'utf-8')\n",
    "    tags_to_gexf = tags_to_gexf.drop ('source', axis = 1)\n",
    "    tags_to_gexf.columns = ['source', 'target']\n",
    "    gexf_graph = nx.from_pandas_edgelist (tags_to_gexf, create_using = nx.MultiGraph ())\n",
    "    nx.write_gexf (gexf_graph, os.path.join (path, f'{nickname_stitch_needed}_graph.gexf'))\n",
    "    print ('Gexf-файл успешно сохранён')\n",
    "    \n",
    "    winsound.Beep (440, 1000)\n",
    "\n",
    "    print ('Ура! Код завершил работу. Проверьте Ваши файлы')\n",
    "    \n",
    "    \n",
    "    \n",
    "\n",
    "def video_response_for_downloading (url):\n",
    "    \n",
    "    ''' Функция принимает на вход URL TikTok-видео и возвращает контент для последующей записи в видео-файл. '''\n",
    "    \n",
    "    headers = {\n",
    "      'Connection': 'keep-alive',\n",
    "      'sec-ch-ua': '\"Google Chrome\";v=\"89\", \"Chromium\";v=\"89\", \";Not A Brand\";v=\"99\"',\n",
    "      'sec-ch-ua-mobile': '?0',\n",
    "      'User-Agent': 'Mozilla/5.0 (Windows NT 10.0; Win64; x64) AppleWebKit/537.36 (KHTML, like Gecko) Chrome/89.0.4389.114 Safari/537.36',\n",
    "      'Accept': '*/*',\n",
    "      'Sec-Fetch-Site': 'same-site',\n",
    "      'Sec-Fetch-Mode': 'no-cors',\n",
    "      'Sec-Fetch-Dest': 'video',\n",
    "      'Referer': 'https://www.tiktok.com/',\n",
    "      'Accept-Language': 'ru-RU,ru;q=0.9,en-US;q=0.8,en;q=0.7,el;q=0.6,de;q=0.5',\n",
    "      'Cookie': 'tt_webid=6926967686699697670; tt_webid_v2=6926967686699697670; ttwid=1%7C-Pf22eSHkgheOiac4U_hfV9E40k3svSTiyUv1fZGyOM%7C1613134207%7Cd8303836d7c5fe59e24af07560fff61efb5176eb152c1e5120c1b920d4eff7b4; passport_csrf_token=3e864d33e1b1774d956c4fc3131de32b; passport_csrf_token_default=3e864d33e1b1774d956c4fc3131de32b; uid_tt=4d5af9958f703f8488679a8462dea4362836c8d4f88a6f2a69440c2f9324505b; uid_tt_ss=4d5af9958f703f8488679a8462dea4362836c8d4f88a6f2a69440c2f9324505b; sid_tt=9075b4eb80838c9247d7933b0a4d4133; sessionid=9075b4eb80838c9247d7933b0a4d4133; sessionid_ss=9075b4eb80838c9247d7933b0a4d4133; store-idc=alisg; store-country-code=ru; sid_guard=9075b4eb80838c9247d7933b0a4d4133%7C1613134227%7C5184000%7CTue%2C+13-Apr-2021+12%3A50%3A27+GMT; odin_tt=574552fa1292cc681daa70c18beef58130563e7cfff3396d9e65f1645a352224814648d17b65e0350f9030f3bd9e4c8790d3ba34ca24697a412f163ef07244fb6f590d6dcc54c6b0efdcca39603366ea; _ga=GA1.2.896708646.1615818649; cmpl_token=AgQQAPP2F-RMpY-gSj0Gth08-kARWr_Hf4R9YPjrJQ; tt_csrf_token=s5rU_UH_rOzyY0gbm707bWmt; bm_sz=0B4501FDA3E67593229993870522EE16~YAAQByWKUmok+6t4AQAACA8psgtheMIlWTcewismhRxyJ1r0q6LghUXdICCHrVWDQeaheH2HB0/i+kF6VMVgKJdreeUoc70ECUiash9frKht+u31nMH4gt4KADhtVmER/rMGQ7lxxehLmKhMlRJYWbrPRw+53WPHIVJp3z3zjkHoLtSdyhBmuTX5eiGou+y0; _abck=04D2CF35FC8971153BBDA9F8BF46734C~0~YAAQByWKUmsk+6t4AQAACA8psgVadAmBdjj7aB5vyrNwQFwzMieEl+m4TTES0J13H81h5sUgg2R/RlkiR1J4CIgdxKCljMtpF1muaQnVPYSH0AZ8qtLQYfJO4SfyUoN7iRGNgSQjxDRJftt00CXR9XqtJyawHYbXjwInzXBspXrpgF+2Mpjk8/LNe7q4siw3lTQ7Ht7+R+FUyb7fpbDlLGmhYN4LJPJV3A8/Rxr2NauItyqZDKrl6HiJEsKtrXDMhk+QlSBnIscbsh8h9uKmUcxPz59WyJQbTr0IUoOyzIZF1+JnfmtopTkiu050Hz7ycTBYBEX720pUibllv/2CnEnAT4UYRT0jzL2dZ4WOJoGZN1xeCdQsRTMF4YngDbpW8lAuBlI=~-1~-1~-1; ak_bmsc=2AE5712070BE4F8A8CA7343636ACE60B528A2507E531000022256F609F3C5B28~plQsuttkfFHSQ8S+SszK9RFtFRyfz6eETrzTeByhjTlzkpB6p7T+yBcLGpV5RUePTAqJsBo9jnQMA1Y5eY1bKy9dPz2Q797LEIfsg0UoCCyEnVs3WvnjTtGUkO18Bf51HxbMF4Aiz6L6I1Z61Ey/C5k/x6qnnhmXPfCsh7YfiL1CqifbYwbJ1CrT5iJb2GuObOPGer/B9E45q42eCImBRoQWjU4qoXuvg9G6qy4pid2IYpdxgIx2fHWRpK1Sel8XYlhgp4ubP1Eqji75ht2IL3F7ptHKVcoGT7oCY4NaVIedNa6N9feRpEPLMOQNzDxAI+gATp0oho88gqMAzbRF2kMg==; R6kq3TV7=AFYVKbJ4AQAAyB-thZ-OoTOiby3CDIdfsCCqGk4RqfLPlwNr2WcJSwa6tSXa|1|0|2cfb4310802e69f6825fe224f7d9a2f638b9d9d2; bm_mi=914D9AEAA597FF08851DE1907CAF9689~SWCFtjvzN1rLWZ4iKRMGyXboNrJJTfeU2s4xOvAIWIhbO8Q/uI1wujooW2nyLdlEm6OIc3XE12cBo6bVUB09+LvZt7lNXGCOqOd6J5OaU3Url+BNVPrZG/NqWLTTz8b687Bo21+mJa1DLZxICb2MTuGkokXG4H7Zr8HyM6W1LykfWShQf/o2PdoT54la/XBuPzz1XIppgGX+fKGkrxFBzw/Dbb8FfyrzMCvXo7xfgyZzpRbloHqlaE+rUrfvrnbNeqNDxx8sxUSFFJY+m3pP8w==; bm_sv=5247D5361ED7F464760DB27575E3D3D1~NAeI1AwynosACdbeChQSiDVKYcTx04aeu/i4losTc650rcNPTUdrhdWTZbfQ99q3/O2jLVTCfsHSG72jPmfz2AH54gHwey+wFRzwrBKDiGoF5gyFMEByVMFyuozv4JFDoh18f6sTIQbHaH4V5GXuiGDXf7LaLdTtQfOFHNmLP2w=; _abck=04D2CF35FC8971153BBDA9F8BF46734C~-1~YAAQJiWKUkOGI3J4AQAAeRgHqAWbg91Yg+GBB0DWS/TizQqM7n8kSmj3tKPqpQjNChgqtgEfKZn/4BAJaYhPy8mL5U3Gp94GKR+pJvSL58BYf1/rVM76cok6G9DPx7E2z8ZtsJCtv+Hop/muDHF11DuPqtIxWeuPJ/vMoAscVunPUgVP/hI4uzSJiOCLzr7hVa1Vxvffu3I7gZuxz04BDVZ/dGLPuNPrh2yiVwFpNArZfHV+Ei+UyD5vznismHZySoEhJmDjdJFMpZaq99lP9U6N3AV05Bd4y50E3XMy913MzxYugWV8DiyWVD8ikZ9fJMqtILCQ81u7AuY8EnNfR3CDJFMM2clAcQKkoz3QMoSoiAa3b1UB/97Z4y8YPuI6bBk8nLU=~0~-1~-1',\n",
    "      'Range': 'bytes=0-'\n",
    "    }\n",
    "\n",
    "    response = requests.get (url, headers=headers).text\n",
    "    \n",
    "    soup = BeautifulSoup (response, 'lxml')\n",
    "\n",
    "    video_data = json.loads (soup.find_all('script', {'type':'application/json'})[0].text)\n",
    "\n",
    "    url_for_downloading = video_data ['props']['pageProps']['itemInfo']['itemStruct']['video']['downloadAddr']\n",
    "\n",
    "    response = requests.get (url_for_downloading, headers=headers)\n",
    "\n",
    "    if response.status_code == 206:\n",
    "        print ('Видео найдено, всё хорошо! Начинаем загрузку видео и аудио в папку')\n",
    "    \n",
    "    return response.content\n",
    "\n",
    "\n",
    "\n",
    "def save_videos_audios_to_folder (nickname_stitch_needed):\n",
    "    \n",
    "    ''' Функция принимает на вход никнейм автора оригинального видео, \n",
    "    создаёт в папке проекта подпапку audio_video,\n",
    "    сохраняет туда все видео, на которые вели собранные в Google-поиске ссылки,\n",
    "    затем туда же сохраняет моно-wav-аудиофайлы этих видео. \n",
    "    \n",
    "    Функция ничего не возвращает. Когда код закончит работу, раздаётся звук.'''\n",
    "    \n",
    "    path = os.path.join (os.getcwd(), nickname_stitch_needed)\n",
    "    doc_path = os.path.join (path, f'{nickname_stitch_needed}_links.csv')\n",
    "\n",
    "    all_links = []\n",
    "    with open (doc_path, newline = '') as links:\n",
    "        reader = csv.reader(links)\n",
    "        all_links_as_lists = list (reader) # Здесь каждая строка как список из одной ссылки (одного элемента)\n",
    "        for i in all_links_as_lists:\n",
    "            all_links.append (i[0])\n",
    "            \n",
    "    path_upd = os.path.join (path, 'audio_video')\n",
    "\n",
    "    try:\n",
    "        os.mkdir (path_upd)\n",
    "    except OSError:\n",
    "        print ('Creation of the directory %s failed' % path)\n",
    "    else:\n",
    "        print ('Successfully created the directory %s' % path)\n",
    "\n",
    "    print (f'Папка \"audio_video\" успешно создана в папке {nickname_stitch_needed} текущей директории')\n",
    "\n",
    "    for i in tqdm (all_links, position=0, leave=True):\n",
    "        \n",
    "        try:\n",
    "\n",
    "            aweme_id = get_aweme_id_final (i)\n",
    "\n",
    "            content = video_response_for_downloading (i)\n",
    "            open (os.path.join (path_upd, f'{nickname_stitch_needed}_{aweme_id}.mp4'), 'wb').write (content)\n",
    "\n",
    "            my_clip = mp.VideoFileClip (os.path.join (path_upd, f'{nickname_stitch_needed}_{aweme_id}.mp4'))\n",
    "            my_clip.audio.write_audiofile (os.path.join (path_upd, f'{nickname_stitch_needed}_{aweme_id}.wav'))\n",
    "\n",
    "            my_clip.close ()\n",
    "\n",
    "            print (f'Всё прошло успешно! Проверьте аудио и видео №{all_links.index (i)+1}')\n",
    "\n",
    "            sound = AudioSegment.from_wav (os.path.join (path_upd, f'{nickname_stitch_needed}_{aweme_id}.wav'))\n",
    "            sound = sound.set_channels (1)\n",
    "            sound.export(os.path.join (path_upd, f'{nickname_stitch_needed}_{aweme_id}.wav'), format = 'wav')\n",
    "\n",
    "            time.sleep (random.uniform (2, 6))\n",
    "            \n",
    "        except:\n",
    "            print (f'ПРОБЛЕМА С ВИДЕО И АУДИО №{all_links.index (i)+1}. Пропускаем, вернитесь позже')\n",
    "            pass\n",
    "\n",
    "    winsound.Beep (440, 1000)\n",
    "    print ('Поздравляем! Код завершил свою работу')\n",
    "    \n",
    "    \n",
    "def save_videos_audios_to_folder_specified (nickname_stitch_needed, all_links):\n",
    "    \n",
    "    ''' Функция принимает на вход название нужной папки (nickname_stitch_needed) \n",
    "    и список ссылок на видео, для которых нужно собрать видео- и аудиофайлы, \n",
    "    создаёт в папке проекта подпапку audio_video, сохраняет туда все видео, \n",
    "    затем туда же сохраняет моно-wav-аудиофайлы этих видео. \n",
    "    \n",
    "    Функция ничего не возвращает. Когда код закончит работу, раздаётся звук.'''\n",
    "    \n",
    "    path = os.path.join (os.getcwd(), nickname_stitch_needed)\n",
    "    doc_path = os.path.join (path, f'{nickname_stitch_needed}_links.csv')\n",
    "            \n",
    "    path_upd = os.path.join (path, 'audio_video')\n",
    "\n",
    "    try:\n",
    "        os.mkdir (path_upd)\n",
    "    except OSError:\n",
    "        print ('Creation of the directory %s failed' % path)\n",
    "    else:\n",
    "        print ('Successfully created the directory %s' % path)\n",
    "\n",
    "    print (f'Папка \"audio_video\" успешно создана в папке {nickname_stitch_needed} текущей директории')\n",
    "\n",
    "    for i in tqdm (all_links, position=0, leave=True):\n",
    "        \n",
    "        try:\n",
    "\n",
    "            aweme_id = get_aweme_id_final (i)\n",
    "\n",
    "            content = video_response_for_downloading (i)\n",
    "            open (os.path.join (path_upd, f'{nickname_stitch_needed}_{aweme_id}.mp4'), 'wb').write (content)\n",
    "\n",
    "            my_clip = mp.VideoFileClip (os.path.join (path_upd, f'{nickname_stitch_needed}_{aweme_id}.mp4'))\n",
    "            my_clip.audio.write_audiofile (os.path.join (path_upd, f'{nickname_stitch_needed}_{aweme_id}.wav'))\n",
    "\n",
    "            my_clip.close ()\n",
    "\n",
    "            print (f'Всё прошло успешно! Проверьте аудио и видео №{all_links.index (i)+1}')\n",
    "\n",
    "            sound = AudioSegment.from_wav (os.path.join (path_upd, f'{nickname_stitch_needed}_{aweme_id}.wav'))\n",
    "            sound = sound.set_channels (1)\n",
    "            sound.export(os.path.join (path_upd, f'{nickname_stitch_needed}_{aweme_id}.wav'), format = 'wav')\n",
    "\n",
    "            time.sleep (random.uniform (2, 6))\n",
    "            \n",
    "        except:\n",
    "            print (f'ПРОБЛЕМА С ВИДЕО И АУДИО №{all_links.index (i)+1}. Пропускаем, вернитесь позже')\n",
    "            pass\n",
    "\n",
    "    winsound.Beep (440, 1000)\n",
    "    print ('Поздравляем! Код завершил свою работу')\n",
    "    \n",
    "    \n",
    "def get_aweme_id_from_audio (filename):\n",
    "    \n",
    "    ''' Функция принимает на вход название аудиофайла из спарсенных видео\n",
    "    и возвращает уникальный идентификатор видео (aweme_id).'''\n",
    "\n",
    "    aweme_id = int (re.split ('_|.wav', filename)[1])\n",
    "    return aweme_id\n",
    "\n",
    "\n",
    "\n",
    "def stt_function (audio_file):\n",
    "\n",
    "    ''' Для Python 3.9 и импортированной модели vosk!!!\n",
    "\n",
    "    Функция принимает на вход название моно-wav-аудиофайла,\n",
    "    расшифровывает речь на американском английском и\n",
    "    записывает результат распознавания в txt-файл, название которого состоит\n",
    "    из названия аудио файла + _stt.txt.\n",
    "    \n",
    "    Функция возвращает распознанный текст единой строкой. Код издаёт звук, когда завершает работу.'''\n",
    "\n",
    "    # ЗАПУСК МОДЕЛИ РАСПОЗНАВАНИЯ РЕЧИ\n",
    "\n",
    "    SetLogLevel(0)\n",
    "\n",
    "    if not os.path.exists(\"model\"):\n",
    "        print(\n",
    "            \"Please download the model from https://alphacephei.com/vosk/models and unpack as 'model' in the current folder.\")\n",
    "        exit(1)\n",
    "\n",
    "    wf = wave.open (audio_file, \"rb\") # ЗДЕСЬ менять название аудио-файла\n",
    "    if wf.getnchannels() != 1 or wf.getsampwidth() != 2 or wf.getcomptype() != \"NONE\":\n",
    "        print (\"Audio file must be WAV format mono PCM.\")\n",
    "        exit (1)\n",
    "\n",
    "    model = Model(\"model\")\n",
    "    rec = KaldiRecognizer(model, wf.getframerate())\n",
    "\n",
    "    final_json = {}\n",
    "    i = 0\n",
    "\n",
    "    with open(f'{audio_file[:-4]}_stt.txt', 'a') as output:  # ЗДЕСЬ заменять название файла для записи результата\n",
    "        print('[', file=output)\n",
    "\n",
    "    while True:\n",
    "        data = wf.readframes(4000)\n",
    "        if len(data) == 0:\n",
    "            break\n",
    "        if rec.AcceptWaveform(data):\n",
    "            with open(f'{audio_file[:-4]}_stt.txt', 'a') as output: # И ЗДЕСЬ\n",
    "                print (rec.Result(), file = output)\n",
    "                print(',', file=output)\n",
    "        else:\n",
    "            print(rec.PartialResult())\n",
    "\n",
    "    with open(f'{audio_file[:-4]}_stt.txt', 'a') as output:  # И ЗДЕСЬ\n",
    "        print (rec.FinalResult(), file = output)\n",
    "        print (']', file = output)\n",
    "\n",
    "    # СОХРАНЕНИЕ РЕЗУЛЬТАТА В ТЕКСТОВЫЙ ФАЙЛ\n",
    "    # Мы перезаписываем тот же файл, в котором до этого делали предзапись результатов\n",
    "\n",
    "    my_file = open (f'{audio_file[:-4]}_stt.txt', 'r') # И ЗДЕСЬ\n",
    "    content = my_file.read()\n",
    "    print (type (content))\n",
    "    res = json.loads (content)\n",
    "    final_string = ''\n",
    "    for i in res:\n",
    "        final_string = ' '.join ((final_string, i['text']))\n",
    "    print (final_string)\n",
    "\n",
    "    with open(f'{audio_file[:-4]}_stt.txt', 'w') as output:  # И ЗДЕСЬ\n",
    "        print (final_string, file = output)\n",
    "    \n",
    "    winsound.Beep (440, 1000)\n",
    "\n",
    "    return final_string\n",
    "\n",
    "\n",
    "\n",
    "def unique_characteristics_for_common_videos (referer):\n",
    "    \n",
    "    ''' Функция позволяет собирать уникальную информацию о видео, как то:\n",
    "    1. уникальный идентификатор видео (aweme_id)\n",
    "    2. подпись к видео (description)\n",
    "    3. время публикации в формате timestamp (timestamp_create_time)\n",
    "    4. время публикации в человекочитаемом формате (type = string) (date)\n",
    "    5. id автора видео (author_id)\n",
    "    6. имя автора видео (author_name)\n",
    "    7. никнейм автора (author_nickname)\n",
    "    8. музыку в видео (music)\n",
    "    9. лайки (likes)\n",
    "    10. шеры (shares)\n",
    "    11. комментарии (comments)\n",
    "    12. просмотры (views)\n",
    "    13. надписи на стикерах в видео (если есть) (sticker_text)\n",
    "    \n",
    "    Функция возвращает список этих элементов. \n",
    "    В списке на втором месте, после aweme_id, ссылка на это видео. '''\n",
    "    \n",
    "    aweme_id = get_aweme_id_final (referer) # id видео: взять из URL после video/, но до ?\n",
    "\n",
    "    payload={}\n",
    "    headers = {\n",
    "      'authority': 'www.tiktok.com',\n",
    "      'x-kl-ajax-request': 'Ajax_Request',\n",
    "      'accept': 'application/json, text/plain, */*',\n",
    "      'sec-ch-ua-mobile': '?0',\n",
    "      'user-agent': 'Mozilla/5.0 (Windows NT 10.0; Win64; x64) AppleWebKit/537.36 (KHTML, like Gecko) Chrome/87.0.4280.141 Safari/537.36',\n",
    "      'sec-ch-ua': '\"Google Chrome\";v=\"87\", \" Not;A Brand\";v=\"99\", \"Chromium\";v=\"87\"',\n",
    "      'sec-fetch-site': 'same-origin',\n",
    "      'sec-fetch-mode': 'cors',\n",
    "      'sec-fetch-dest': 'empty',\n",
    "      'referer': referer,\n",
    "      'accept-language': 'ru-RU,ru;q=0.9,en-US;q=0.8,en;q=0.7,el;q=0.6,de;q=0.5',\n",
    "      'cookie': 'tt_webid_v2=6916212750071776773; tt_webid=6916212750071776773; ttwid=1%7CcdWyZ48EUgYhNscoWjjs4-x_r5maVNmW9iawlop2cNU%7C1610798758%7C6f5d0da3f04946eeaf6ced45118b69fd8ae2fea758073e919b5f6a01e8285087; passport_csrf_token=e5df83bd420baf05772ded41579ebfad; passport_csrf_token_default=e5df83bd420baf05772ded41579ebfad; store-idc=alisg; store-country-code=ru; cmpl_token=AgQQAPP2F-RO0o-gSj0Gth08xZrL6ZCRf4d9YPo--g; sid_guard=e6c07d4a41d789c3a181163cba66673e%7C1610804042%7C5184000%7CWed%2C+17-Mar-2021+13%3A34%3A02+GMT; uid_tt=a4d5703ef83f07ca07cd0a278b14c4dbf85e372027e33d5605b4cb6018b791b9; uid_tt_ss=a4d5703ef83f07ca07cd0a278b14c4dbf85e372027e33d5605b4cb6018b791b9; sid_tt=e6c07d4a41d789c3a181163cba66673e; sessionid=e6c07d4a41d789c3a181163cba66673e; sessionid_ss=e6c07d4a41d789c3a181163cba66673e; MONITOR_WEB_ID=6916212750071776773; tt_csrf_token=GPy9U4CN50q1WNOtsFtAXWu-; s_v_web_id=verify_kk14bgxh_Ey7Ty0Nw_0w04_4iQX_8eBP_rzF6PEPNP7NM; csrf_session_id=a0f71447990040f7a19b35e99c980613; odin_tt=ba60c4b6907072ee26ad5b2462547eea1e16da5e658698dae644227ead9b99850d405faf8246f2d1e9087a40287e9af988a24c4ce98107ebed7edbbf8a3909636884ee832bd5e3252181f720a8b0512b'\n",
    "    }\n",
    "\n",
    "    response = requests.request(\"GET\", referer, headers=headers, data=payload)\n",
    "    soup = BeautifulSoup(response.text, 'lxml') # загружаем DOM ссылки\n",
    "    txt = soup.find_all('script', {'type':'application/json'})[0].text\n",
    "\n",
    "    for_info = json.loads(txt)['props']['pageProps']['itemInfo']['itemStruct']\n",
    "    aweme_id = for_info ['id']\n",
    "    description = for_info ['desc']\n",
    "    timestamp_create_time = for_info ['createTime']\n",
    "    ts = time.gmtime(timestamp_create_time)\n",
    "    date = time.strftime(\"%d.%m.%Y\", ts)\n",
    "    author_id = for_info ['author']['id']\n",
    "    author_name = for_info ['author']['nickname']\n",
    "    author_nickname = for_info ['author']['uniqueId']\n",
    "    music = for_info ['music']['title']\n",
    "    likes = for_info ['stats']['diggCount']\n",
    "    shares = for_info ['stats']['shareCount']\n",
    "    comments = for_info ['stats']['commentCount']\n",
    "    views = for_info ['stats']['playCount']\n",
    "    try:\n",
    "        raw_sticker_text = for_info ['stickersOnItem'][0]['stickerText']\n",
    "        sticker_text = ''\n",
    "        for i in raw_sticker_text:\n",
    "             sticker_text = ' '.join ((sticker_text, i))\n",
    "    except IndexError:\n",
    "        sticker_text = ''   \n",
    "    row = [aweme_id, referer, description, timestamp_create_time, date, author_id, author_name, author_nickname, music,\n",
    "          likes, shares, comments, views, sticker_text]\n",
    "    return row\n",
    "\n",
    "def csv_links_parse (all_links_to_parse, filename):\n",
    "    \n",
    "    ''' Функция принимает на вход список ссылок на не-ститч тикток-видео в формате csv и желаемое имя файлов.\n",
    "    Возвращает:\n",
    "    1. Файл с уникальными характеристиками видео\n",
    "    2. Файл с комментариями к этим видео\n",
    "    3. Файл с тэгами\n",
    "    4. Граф тэгов\n",
    "    \n",
    "    Код издаёт звук, когда завершает работу.'''\n",
    "    \n",
    "    print ('Приступаем к парсингу уникальных характеристик видео')\n",
    "    print ('Не переживайте, процесс может занять некоторое время')\n",
    "    row_titles = ['aweme_id', 'link', 'description', 'timestamp_create_time', 'date', 'author_id', 'author_name', \n",
    "                  'author_nickname', 'music', 'likes', 'shares', 'comments', 'views', 'sticker_text']\n",
    "    unique_char_table = pd.DataFrame (columns = row_titles)\n",
    "    for i in tqdm (all_links_to_parse, position=0, leave=True):\n",
    "        try:\n",
    "            un_char = unique_characteristics_for_common_videos (i)\n",
    "            unique_char_table.loc [len (unique_char_table)] = un_char # Добавляем ряд к датафрейму\n",
    "            time.sleep (random.uniform(2, 6))\n",
    "        except:\n",
    "            print (f'Проблема с видео {i}, вернись к нему позже')\n",
    "            pass\n",
    "    unique_char_table ['hashtags'] = unique_char_table ['description'].apply (hashtags)\n",
    "    unique_char_table.to_csv (f'{filename}_unique_characteristics.csv')\n",
    "    print ('Записали уникальные характеристики видео в файл')\n",
    "    \n",
    "    print ('Приступаем к парсингу комментариев для видео')\n",
    "    print ('Не переживайте, процесс может занять некоторое время')\n",
    "    print ('Сложив числа между двумя плашками прогресса, вы можете навскидку сказать,') \n",
    "    print ('сколько примерно комментариев под видео, которое парсится на данный момент.')\n",
    "    print ('То есть если вы видите: \"50 Это не конец 49 Это конец\", то у видео больше 50, но меньше 100 комментариев')\n",
    "    \n",
    "#     comments_table = pd.DataFrame ()\n",
    "#     for i in tqdm (all_links_to_parse, position=0, leave=True):\n",
    "#         try:\n",
    "#             video_comments = comments_parse_upd (i)\n",
    "#             comments_table = comments_table.append (video_comments[1], ignore_index = True)\n",
    "#         except:\n",
    "#             print (f'Проблема с видео {i}, вернись к нему позже')\n",
    "#             pass            \n",
    "#     comments_table_to_save = clear_comments_table_user_dict_without_saving (comments_table)\n",
    "#     comments_table_to_save.to_csv (f'{filename}_comments_table.csv', sep = ';')\n",
    "#     print ('Почистили таблицу комментариев и записали в файл')\n",
    "    \n",
    "    print ('Приступаем к сбору тэгов из подписей к видео')\n",
    "    with open (f'{filename}_tags.csv', 'w+', newline = '', encoding = 'utf-8') as tags:\n",
    "        writer = csv.writer (tags, delimiter = \",\")\n",
    "        writer.writerow (['original_hashtag', 'relative_hashtag', 'source'])\n",
    "        for i in unique_char_table ['hashtags']:\n",
    "            for j in i:\n",
    "                print (j)\n",
    "                writer.writerow ([filename, drop_hashtag (j), 'caption'])\n",
    "            for a in range (len (i)):\n",
    "                for b in range (a + 1, len (i)):\n",
    "                    writer.writerow ([drop_hashtag (i[a]), drop_hashtag (i[b]), 'caption_internal_links'])\n",
    "    print ('Записали вторую часть тэгов в файл')\n",
    "    \n",
    "    print ('Превращаем csv-файл тэгов в gexf-файл для создания графа')\n",
    "    tags_to_gexf = pd.read_csv (f'{filename}_tags.csv', encoding = 'utf-8')\n",
    "    tags_to_gexf = tags_to_gexf.drop ('source', axis = 1)\n",
    "    tags_to_gexf.columns = ['source', 'target']\n",
    "    gexf_graph = nx.from_pandas_edgelist (tags_to_gexf, create_using = nx.MultiGraph ())\n",
    "    nx.write_gexf (gexf_graph, f'{filename}_graph.gexf')\n",
    "    print ('Gexf-файл успешно сохранён')\n",
    "    \n",
    "    winsound.Beep (440, 1000)\n",
    "\n",
    "    print ('Ура! Код завершил работу. Проверьте Ваши файлы')\n",
    "\n",
    "def csv_links_parse_comments_only (all_links_to_parse, filename):\n",
    "    \n",
    "    ''' Функция принимает на вход список ссылок на не-ститч тикток-видео в формате csv и желаемое имя файлов.\n",
    "    Возвращает файл с комментариями к этим видео. Код издаёт звук, когда завершает работу. '''\n",
    "    \n",
    "    print ('Приступаем к парсингу комментариев для видео')\n",
    "    print ('Не переживайте, процесс может занять некоторое время')\n",
    "    print ('Сложив числа между двумя плашками прогресса, вы можете навскидку сказать,') \n",
    "    print ('сколько примерно комментариев под видео, которое парсится на данный момент.')\n",
    "    print ('То есть если вы видите: \"50 Это не конец 49 Это конец\", то у видео больше 50, но меньше 100 комментариев')\n",
    "    \n",
    "    comments_table = pd.DataFrame ()\n",
    "    for i in tqdm (all_links_to_parse, position=0, leave=True):\n",
    "        try:\n",
    "            video_comments = comments_parse_upd (i)\n",
    "            comments_table = comments_table.append (video_comments[1], ignore_index = True)\n",
    "        except TypeError:\n",
    "            print ('Либо у этого видео нет комментариев, либо произошла какая-то ошибка')\n",
    "            pass\n",
    "    comments_table_to_save = clear_comments_table_user_dict_without_saving (comments_table)\n",
    "    comments_table_to_save.to_csv (f'{filename}_comments_table.csv', sep = ';')\n",
    "    print ('Почистили таблицу комментариев и записали в файл')\n",
    "    \n",
    "    winsound.Beep (440, 1000)\n",
    "\n",
    "    print ('Ура! Код завершил работу. Проверьте файл')\n",
    "\n",
    "def tags_from_unchar (filename):\n",
    "    \n",
    "    ''' Функция принимает на вход csv-файл с уникальными характеристиками видео,\n",
    "    вычленяет тэги из подписей к видео, группирует их попарно внутри одной подписи, \n",
    "    тем самым выстраивая связь между тэгами, перезаписывает файл с тэгами, добавляя новые ряды,\n",
    "    и сохраняет результат в виде графа тэгов как gexf-файл.'''\n",
    "    \n",
    "    print ('Приступаем к сбору тэгов из подписей к видео')\n",
    "    unique_char_table = pd.read_csv (f'{filename}_unique_characteristics.csv').drop ('Unnamed: 0', axis = 1)\n",
    "    with open (f'{filename}_tags.csv', 'w+', newline = '', encoding = 'utf-8') as tags:\n",
    "        writer = csv.writer (tags, delimiter = \",\")\n",
    "        writer.writerow (['original_hashtag', 'relative_hashtag', 'source'])\n",
    "        for i in unique_char_table ['hashtags']:\n",
    "            reading_as_list = ast.literal_eval (i)\n",
    "            for j in reading_as_list:\n",
    "                print (j)\n",
    "                writer.writerow ([filename, drop_hashtag (j), 'caption'])\n",
    "            for a in range (len (reading_as_list)):\n",
    "                for b in range (a + 1, len (reading_as_list)):\n",
    "                    writer.writerow ([drop_hashtag (reading_as_list[a]), drop_hashtag (reading_as_list[b]), \n",
    "                                      'caption_internal_links'])\n",
    "    print ('Записали вторую часть тэгов в файл')\n",
    "    \n",
    "    print ('Превращаем csv-файл тэгов в gexf-файл для создания графа')\n",
    "    tags_to_gexf = pd.read_csv (f'{filename}_tags.csv', encoding = 'utf-8')\n",
    "    tags_to_gexf = tags_to_gexf.drop ('source', axis = 1)\n",
    "    tags_to_gexf.columns = ['source', 'target']\n",
    "    gexf_graph = nx.from_pandas_edgelist (tags_to_gexf, create_using = nx.MultiGraph ())\n",
    "    nx.write_gexf (gexf_graph, f'{filename}_graph.gexf')\n",
    "    print ('Gexf-файл успешно сохранён')\n",
    "    \n",
    "    winsound.Beep (440, 1000)\n",
    "\n",
    "    print ('Ура! Код завершил работу. Проверьте Ваши файлы')\n",
    "    \n",
    "def scroll (driver, timeout):\n",
    "    \n",
    "    ''' Функция скроллит страницу до конца '''\n",
    "    \n",
    "    scroll_pause_time = timeout\n",
    "\n",
    "    # Get scroll height\n",
    "    last_height = driver.execute_script(\"return document.body.scrollHeight\")\n",
    "\n",
    "    while True:\n",
    "        # Scroll down to bottom\n",
    "        driver.execute_script(\"window.scrollTo(0, document.body.scrollHeight);\")\n",
    "\n",
    "        # Wait to load page\n",
    "        time.sleep(scroll_pause_time)\n",
    "\n",
    "        # Calculate new scroll height and compare with last scroll height\n",
    "        new_height = driver.execute_script(\"return document.body.scrollHeight\")\n",
    "        if new_height == last_height:\n",
    "            # If heights are the same it will exit the function\n",
    "            break\n",
    "        last_height = new_height\n",
    "\n",
    "def all_links (url):\n",
    "    \n",
    "    ''' Функция собирает все ссылки на странице '''\n",
    "    \n",
    "    # Setup the driver. This one uses firefox with some options and a path to the geckodriver\n",
    "    driver = wb.Chrome('C:/Users/User/Documents/Практика/chromedriver_win32/chromedriver.exe')\n",
    "    # implicitly_wait tells the driver to wait before throwing an exception\n",
    "    driver.implicitly_wait(30)\n",
    "    # driver.get(url) opens the page\n",
    "    driver.get(url)\n",
    "    # This starts the scrolling by passing the driver and a timeout\n",
    "    scroll(driver, 5)\n",
    "    # Once scroll returns bs4 parsers the page_source\n",
    "    soup_a = BeautifulSoup(driver.page_source, 'lxml')\n",
    "    # Them we close the driver as soup_a is storing the page source\n",
    "    driver.close()\n",
    "\n",
    "    # Empty array to store the links\n",
    "    links = []\n",
    "\n",
    "    # Looping through all the a elements in the page source\n",
    "    for link in soup_a.find_all('a'):\n",
    "        # link.get('href') gets the href/url out of the a element\n",
    "        links.append(link.get('href'))\n",
    "\n",
    "    return links\n",
    "\n",
    "def creator_links (nickname_creator_needed):\n",
    "    \n",
    "    ''' Функция принимает на вход никнейм пользователя, ссылки из аккаунта которого нужно собрать, \n",
    "    и возвращает список ссылок на все видео в аккаунте. Также сохраняет ссылки в csv-файл.'''\n",
    "    \n",
    "    print ('Вручную реши капчу!')\n",
    "    nickname_creator_main_link = 'https://www.tiktok.com/@' + f'{nickname_creator_needed}'\n",
    "    nickname_creator_all_links = all_links (nickname_creator_main_link)\n",
    "    all_clear_links = []\n",
    "    for i in nickname_creator_all_links:\n",
    "        if len (re.findall ('https://www.tiktok.com/@' + nickname_creator_needed + '/video/.*\\d', nickname_creator_all_links [nickname_creator_all_links.index(i)]))>0:\n",
    "            all_clear_links.append (i)\n",
    "    with open (f'{nickname_creator_needed}_links.csv', 'w', newline = '') as links:\n",
    "        writer = csv.writer (links, delimiter = \",\")\n",
    "        for i in all_clear_links:\n",
    "            writer.writerow (i.split())\n",
    "    print ('Сохранили все ссылки в файл')\n",
    "    \n",
    "    return all_clear_links\n",
    "\n",
    "def mobile_links_to_normal (filename):\n",
    "    \n",
    "    ''' Функция принимает на вход список ссылок на видео, скопированных из мобильного приложения, \n",
    "    в формате \"https://vm.tiktok.com/...\" и возвращает список ссылок ПК-типа \"www.tiktok.com/@никнейм/video/...\"\n",
    "    Если функция не работает, возможно, условия доступа к серверной части TikTok вновь изменились, \n",
    "    и следует переписать функцию, потому что ответ переводит на капчу.'''\n",
    "    \n",
    "    all_links = []\n",
    "    with open (filename, newline = '', encoding = 'utf-8-sig') as links: \n",
    "        # utf-8-sig вместо utf-8 помогает избежать символов начала документа в первой строке\n",
    "        reader = csv.reader(links)\n",
    "        all_links_as_lists = list (reader) # Здесь каждая строка как список из одной ссылки (одного элемента)\n",
    "        for i in all_links_as_lists:\n",
    "            all_links.append (i[0])\n",
    "    all_normal_links = []\n",
    "    for every_url in tqdm (all_links):\n",
    "        response = requests.get (every_url)\n",
    "        soup = BeautifulSoup (response.text)\n",
    "        normal_url = soup.find_all ('link')[0]['href']\n",
    "        all_normal_links.append (normal_url)\n",
    "    return all_normal_links\n",
    "\n",
    "def tags_parsing (tag_needed):\n",
    "    \n",
    "    ''' Для работы функции нужно заранее закачать в папку проекта html-копию нужной страницы тэга в формате \"тэг Hashtag.html\",\n",
    "    то есть нужно предварительно в браузере вручную проскроллить нужную страницу вниз, сохранить её, \n",
    "    убрать лишние символы из названия (в том числе первый знак #), а затем загрузить в Jupyter Notebook.\n",
    "    Функция принимает на вход название тэга (например, \"easterneuropean\") как строку, \n",
    "    создаёт папку (название папки совпадает с названием тэга) и возвращает список всех найденных в html-файле ссылок на видео,\n",
    "    а также сохраняет эти ссылки в csv-файл.'''\n",
    "    \n",
    "    with open (f'{tag_needed} Hashtag.html', 'r', encoding = 'utf-8') as f:\n",
    "        contents = f.read()\n",
    "\n",
    "        soup = BeautifulSoup(contents, 'lxml')\n",
    "    \n",
    "    all_links = []\n",
    "    for i in soup.find_all ('a', href=True):\n",
    "        if 'video' in i['href']:\n",
    "            print (i ['href'])\n",
    "            all_links.append (i ['href'])\n",
    "    try:\n",
    "        path = os.path.join (os.getcwd(), tag_needed)\n",
    "        os.mkdir (path)\n",
    "    except OSError:\n",
    "        print ('Creation of the directory %s failed' % path)\n",
    "    else:\n",
    "        print ('Successfully created the directory %s' % path)\n",
    "    print (f'Папка {tag_needed} успешно создана в текущей директории')\n",
    "\n",
    "    with open (os.path.join (path, f'{tag_needed}_links.csv'), 'w', newline = '') as links:\n",
    "        writer = csv.writer (links, delimiter = \",\")\n",
    "        for i in all_links:\n",
    "            writer.writerow (i.split())\n",
    "    return all_links\n",
    "\n",
    "def get_folders_name (filename):\n",
    "    \n",
    "    ''' Функция принимает на вход название файла и вычленяет оттуда название соответствующей папки.'''\n",
    "    \n",
    "    x = filename.split ('_')\n",
    "    return x[0]"
   ]
  },
  {
   "cell_type": "markdown",
   "metadata": {},
   "source": [
    "# Сбор #Stitch-видео\n",
    "\n",
    "Пример сбора видео-ответов на видео аккаунта \"kallmekris\"."
   ]
  },
  {
   "cell_type": "code",
   "execution_count": 2,
   "metadata": {
    "scrolled": true
   },
   "outputs": [
    {
     "name": "stdout",
     "output_type": "stream",
     "text": [
      "Введите ник пользователя, для видео которого нужны ститчи: kallmekris\n",
      "Successfully created the directory C:\\Users\\User\\TikTok\\kallmekris\n",
      "Папка kallmekris успешно создана в текущей директории\n",
      "Начинаем сбор ссылок на видео и тэги из Google-поиска\n",
      "Стартовая позиция:  0\n",
      "Загрузили\n",
      "#stitch с @kallmekris у вас тоже так было?       - TikTok\n",
      "https://www.tiktok.com/@tilitili111/video/6894974043733101826\n",
      "#stitch with @tabithalipkin Burn it all down     - TikTok\n",
      "https://www.tiktok.com/@kallmekris/video/6926224537558207750\n",
      "#stitch with @morymcfly3 Was genuinely not expecting that - TikTok\n",
      "https://www.tiktok.com/@kallmekris/video/6902077430257798402\n",
      "#stitch with @kallmekris @nikkietutorials - TikTok\n",
      "https://www.tiktok.com/@jeenie.weenie/video/6890298467705457922\n",
      "#stitch with @kallmekris please don't be tagging Kris in this, thank you!\n",
      "https://www.tiktok.com/@dr_inna/video/6906596814707756294\n",
      "#stitch with @kallmekris this is in no way a criticism of Kris (or ...\n",
      "https://www.tiktok.com/@dr_inna/video/6938875628997397766\n",
      "#stitch with @kallmekris I just want to learns (Instagram ... - TikTok\n",
      "https://www.tiktok.com/@titotheducky/video/6887975618592378118\n",
      "#stitch с @shahgoer | с музыкой Эстетика - Данил Степанов - TikTok\n",
      "https://www.tiktok.com/@dstepanovd/video/6934735583667440897\n",
      "#stitch с @anyaoceann Ответ всем хейтерам   Согласны?      \n",
      "https://www.tiktok.com/@maybe_gelik/video/6946196243940969730\n",
      "Спит 3.505601375635434 секунд\n",
      "Просыпаемся! :)\n",
      "Стартовая позиция:  10\n"
     ]
    },
    {
     "name": "stderr",
     "output_type": "stream",
     "text": [
      "  0%|                                                                                            | 0/9 [00:00<?, ?it/s]"
     ]
    },
    {
     "name": "stdout",
     "output_type": "stream",
     "text": [
      "Загрузили\n",
      "Код завершил свою работу :)\n",
      "Собрали ссылки на видео и тэги из Google-поиска\n",
      "Выделяем из результатов тэги\n",
      "Записали первую часть тэгов в файл\n",
      "Выделяем все ссылки на видео для парсинга\n"
     ]
    },
    {
     "name": "stderr",
     "output_type": "stream",
     "text": [
      "100%|████████████████████████████████████████████████████████████████████████████████████| 9/9 [00:17<00:00,  1.89s/it]\n",
      "  0%|                                                                                            | 0/9 [00:00<?, ?it/s]"
     ]
    },
    {
     "name": "stdout",
     "output_type": "stream",
     "text": [
      "Сохранили все ссылки в файл\n",
      "Приступаем к парсингу уникальных характеристик видео\n",
      "Не переживайте, процесс может занять некоторое время\n"
     ]
    },
    {
     "name": "stderr",
     "output_type": "stream",
     "text": [
      "100%|████████████████████████████████████████████████████████████████████████████████████| 9/9 [00:38<00:00,  4.29s/it]\n"
     ]
    },
    {
     "name": "stdout",
     "output_type": "stream",
     "text": [
      "Записали уникальные характеристики видео в файл\n",
      "Приступаем к сбору тэгов из подписей к видео\n",
      "#YouGotThis\n",
      "#exprESSIEyourself\n",
      "Записали вторую часть тэгов в файл\n",
      "Превращаем csv-файл тэгов в gexf-файл для создания графа\n",
      "Gexf-файл успешно сохранён\n",
      "Ура! Код завершил работу. Проверьте Ваши файлы\n"
     ]
    }
   ],
   "source": [
    "stitches_parsing_workflow ()"
   ]
  },
  {
   "cell_type": "code",
   "execution_count": 3,
   "metadata": {},
   "outputs": [
    {
     "name": "stderr",
     "output_type": "stream",
     "text": [
      "  0%|                                                                                            | 0/9 [00:00<?, ?it/s]"
     ]
    },
    {
     "name": "stdout",
     "output_type": "stream",
     "text": [
      "Successfully created the directory C:\\Users\\User\\TikTok\\kallmekris\n",
      "Папка \"audio_video\" успешно создана в папке kallmekris текущей директории\n",
      "Видео найдено, всё хорошо! Начинаем загрузку видео и аудио в папку\n"
     ]
    },
    {
     "name": "stderr",
     "output_type": "stream",
     "text": [
      "  0%|                                                                                            | 0/9 [00:01<?, ?it/s]\n",
      "chunk:   0%|                                                                         | 0/365 [00:00<?, ?it/s, now=None]\u001b[A\n",
      "chunk:  39%|███████████████████████▌                                     | 141/365 [00:00<00:00, 1396.06it/s, now=None]\u001b[A"
     ]
    },
    {
     "name": "stdout",
     "output_type": "stream",
     "text": [
      "MoviePy - Writing audio in C:\\Users\\User\\TikTok\\kallmekris\\audio_video\\kallmekris_6946196243940969730.wav\n"
     ]
    },
    {
     "name": "stderr",
     "output_type": "stream",
     "text": [
      "\n",
      "  0%|                                                                                            | 0/9 [00:01<?, ?it/s]\u001b[A"
     ]
    },
    {
     "name": "stdout",
     "output_type": "stream",
     "text": [
      "MoviePy - Done.\n",
      "Всё прошло успешно! Проверьте аудио и видео №1\n"
     ]
    },
    {
     "name": "stderr",
     "output_type": "stream",
     "text": [
      " 11%|█████████▎                                                                          | 1/9 [00:04<00:37,  4.75s/it]"
     ]
    },
    {
     "name": "stdout",
     "output_type": "stream",
     "text": [
      "Видео найдено, всё хорошо! Начинаем загрузку видео и аудио в папку\n"
     ]
    },
    {
     "name": "stderr",
     "output_type": "stream",
     "text": [
      " 11%|█████████▎                                                                          | 1/9 [00:07<00:37,  4.75s/it]\n",
      "chunk:   0%|                                                                         | 0/336 [00:00<?, ?it/s, now=None]\u001b[A\n",
      "chunk:  43%|██████████████████████████▎                                  | 145/336 [00:00<00:00, 1435.70it/s, now=None]\u001b[A"
     ]
    },
    {
     "name": "stdout",
     "output_type": "stream",
     "text": [
      "MoviePy - Writing audio in C:\\Users\\User\\TikTok\\kallmekris\\audio_video\\kallmekris_6906596814707756294.wav\n"
     ]
    },
    {
     "name": "stderr",
     "output_type": "stream",
     "text": [
      "\n",
      " 11%|█████████▎                                                                          | 1/9 [00:07<00:37,  4.75s/it]\u001b[A"
     ]
    },
    {
     "name": "stdout",
     "output_type": "stream",
     "text": [
      "MoviePy - Done.\n",
      "Всё прошло успешно! Проверьте аудио и видео №2\n"
     ]
    },
    {
     "name": "stderr",
     "output_type": "stream",
     "text": [
      " 22%|██████████████████▋                                                                 | 2/9 [00:10<00:34,  5.00s/it]"
     ]
    },
    {
     "name": "stdout",
     "output_type": "stream",
     "text": [
      "Видео найдено, всё хорошо! Начинаем загрузку видео и аудио в папку\n"
     ]
    },
    {
     "name": "stderr",
     "output_type": "stream",
     "text": [
      " 22%|██████████████████▋                                                                 | 2/9 [00:14<00:34,  5.00s/it]\n",
      "chunk:   0%|                                                                        | 0/1303 [00:00<?, ?it/s, now=None]\u001b[A\n",
      "chunk:  12%|███████▏                                                    | 155/1303 [00:00<00:00, 1534.70it/s, now=None]\u001b[A"
     ]
    },
    {
     "name": "stdout",
     "output_type": "stream",
     "text": [
      "MoviePy - Writing audio in C:\\Users\\User\\TikTok\\kallmekris\\audio_video\\kallmekris_6894974043733101826.wav\n"
     ]
    },
    {
     "name": "stderr",
     "output_type": "stream",
     "text": [
      "\n",
      "chunk:  39%|███████████████████████▍                                    | 509/1303 [00:00<00:00, 1848.91it/s, now=None]\u001b[A\n",
      "chunk:  67%|███████████████████████████████████████▉                    | 867/1303 [00:00<00:00, 2147.06it/s, now=None]\u001b[A\n",
      "chunk:  94%|███████████████████████████████████████████████████████▍   | 1224/1303 [00:00<00:00, 2433.65it/s, now=None]\u001b[A\n",
      " 22%|██████████████████▋                                                                 | 2/9 [00:14<00:34,  5.00s/it]\u001b[A"
     ]
    },
    {
     "name": "stdout",
     "output_type": "stream",
     "text": [
      "MoviePy - Done.\n",
      "Всё прошло успешно! Проверьте аудио и видео №3\n"
     ]
    },
    {
     "name": "stderr",
     "output_type": "stream",
     "text": [
      " 33%|████████████████████████████                                                        | 3/9 [00:18<00:35,  5.88s/it]"
     ]
    },
    {
     "name": "stdout",
     "output_type": "stream",
     "text": [
      "Видео найдено, всё хорошо! Начинаем загрузку видео и аудио в папку\n"
     ]
    },
    {
     "name": "stderr",
     "output_type": "stream",
     "text": [
      " 33%|████████████████████████████                                                        | 3/9 [00:19<00:35,  5.88s/it]\n",
      "chunk:   0%|                                                                         | 0/903 [00:00<?, ?it/s, now=None]\u001b[A\n",
      "chunk:  17%|██████████▎                                                  | 153/903 [00:00<00:00, 1457.10it/s, now=None]\u001b[A"
     ]
    },
    {
     "name": "stdout",
     "output_type": "stream",
     "text": [
      "MoviePy - Writing audio in C:\\Users\\User\\TikTok\\kallmekris\\audio_video\\kallmekris_6926224537558207750.wav\n"
     ]
    },
    {
     "name": "stderr",
     "output_type": "stream",
     "text": [
      "\n",
      "chunk:  52%|███████████████████████████████▊                             | 471/903 [00:00<00:00, 1739.90it/s, now=None]\u001b[A\n",
      "chunk:  89%|██████████████████████████████████████████████████████▌      | 807/903 [00:00<00:00, 2030.46it/s, now=None]\u001b[A\n",
      " 33%|████████████████████████████                                                        | 3/9 [00:19<00:35,  5.88s/it]\u001b[A"
     ]
    },
    {
     "name": "stdout",
     "output_type": "stream",
     "text": [
      "MoviePy - Done.\n",
      "Всё прошло успешно! Проверьте аудио и видео №4\n"
     ]
    },
    {
     "name": "stderr",
     "output_type": "stream",
     "text": [
      " 44%|█████████████████████████████████████▎                                              | 4/9 [00:22<00:27,  5.49s/it]"
     ]
    },
    {
     "name": "stdout",
     "output_type": "stream",
     "text": [
      "Видео найдено, всё хорошо! Начинаем загрузку видео и аудио в папку\n"
     ]
    },
    {
     "name": "stderr",
     "output_type": "stream",
     "text": [
      " 44%|█████████████████████████████████████▎                                              | 4/9 [00:26<00:27,  5.49s/it]\n",
      "chunk:   0%|                                                                        | 0/1306 [00:00<?, ?it/s, now=None]\u001b[A\n",
      "chunk:  12%|███████                                                     | 153/1306 [00:00<00:00, 1471.20it/s, now=None]\u001b[A"
     ]
    },
    {
     "name": "stdout",
     "output_type": "stream",
     "text": [
      "MoviePy - Writing audio in C:\\Users\\User\\TikTok\\kallmekris\\audio_video\\kallmekris_6938875628997397766.wav\n"
     ]
    },
    {
     "name": "stderr",
     "output_type": "stream",
     "text": [
      "\n",
      "chunk:  35%|█████████████████████                                       | 459/1306 [00:00<00:00, 1733.75it/s, now=None]\u001b[A\n",
      "chunk:  61%|████████████████████████████████████▍                       | 794/1306 [00:00<00:00, 2023.49it/s, now=None]\u001b[A\n",
      "chunk:  85%|█████████████████████████████████████████████████▉         | 1106/1306 [00:00<00:00, 2257.06it/s, now=None]\u001b[A\n",
      " 44%|█████████████████████████████████████▎                                              | 4/9 [00:26<00:27,  5.49s/it]\u001b[A"
     ]
    },
    {
     "name": "stdout",
     "output_type": "stream",
     "text": [
      "MoviePy - Done.\n",
      "Всё прошло успешно! Проверьте аудио и видео №5\n"
     ]
    },
    {
     "name": "stderr",
     "output_type": "stream",
     "text": [
      " 56%|██████████████████████████████████████████████▋                                     | 5/9 [00:31<00:25,  6.29s/it]"
     ]
    },
    {
     "name": "stdout",
     "output_type": "stream",
     "text": [
      "Видео найдено, всё хорошо! Начинаем загрузку видео и аудио в папку\n"
     ]
    },
    {
     "name": "stderr",
     "output_type": "stream",
     "text": [
      " 56%|██████████████████████████████████████████████▋                                     | 5/9 [00:32<00:25,  6.29s/it]\n",
      "chunk:   0%|                                                                         | 0/236 [00:00<?, ?it/s, now=None]\u001b[A\n",
      "chunk:  65%|███████████████████████████████████████▌                     | 153/236 [00:00<00:00, 1485.47it/s, now=None]\u001b[A\n",
      " 56%|██████████████████████████████████████████████▋                                     | 5/9 [00:32<00:25,  6.29s/it]\u001b[A"
     ]
    },
    {
     "name": "stdout",
     "output_type": "stream",
     "text": [
      "MoviePy - Writing audio in C:\\Users\\User\\TikTok\\kallmekris\\audio_video\\kallmekris_6934735583667440897.wav\n",
      "MoviePy - Done.\n",
      "Всё прошло успешно! Проверьте аудио и видео №6\n"
     ]
    },
    {
     "name": "stderr",
     "output_type": "stream",
     "text": [
      " 67%|████████████████████████████████████████████████████████                            | 6/9 [00:36<00:17,  5.91s/it]"
     ]
    },
    {
     "name": "stdout",
     "output_type": "stream",
     "text": [
      "Видео найдено, всё хорошо! Начинаем загрузку видео и аудио в папку\n"
     ]
    },
    {
     "name": "stderr",
     "output_type": "stream",
     "text": [
      " 67%|████████████████████████████████████████████████████████                            | 6/9 [00:37<00:17,  5.91s/it]\n",
      "chunk:   0%|                                                                         | 0/334 [00:00<?, ?it/s, now=None]\u001b[A\n",
      "chunk:  46%|███████████████████████████▉                                 | 153/334 [00:00<00:00, 1514.86it/s, now=None]\u001b[A\n",
      " 67%|████████████████████████████████████████████████████████                            | 6/9 [00:37<00:17,  5.91s/it]\u001b[A"
     ]
    },
    {
     "name": "stdout",
     "output_type": "stream",
     "text": [
      "MoviePy - Writing audio in C:\\Users\\User\\TikTok\\kallmekris\\audio_video\\kallmekris_6902077430257798402.wav\n",
      "MoviePy - Done.\n",
      "Всё прошло успешно! Проверьте аудио и видео №7\n"
     ]
    },
    {
     "name": "stderr",
     "output_type": "stream",
     "text": [
      " 78%|█████████████████████████████████████████████████████████████████▎                  | 7/9 [00:41<00:11,  5.66s/it]"
     ]
    },
    {
     "name": "stdout",
     "output_type": "stream",
     "text": [
      "Видео найдено, всё хорошо! Начинаем загрузку видео и аудио в папку\n"
     ]
    },
    {
     "name": "stderr",
     "output_type": "stream",
     "text": [
      " 78%|█████████████████████████████████████████████████████████████████▎                  | 7/9 [00:43<00:11,  5.66s/it]\n",
      "chunk:   0%|                                                                         | 0/333 [00:00<?, ?it/s, now=None]\u001b[A\n",
      "chunk:  46%|████████████████████████████                                 | 153/333 [00:00<00:00, 1514.84it/s, now=None]\u001b[A\n",
      " 78%|█████████████████████████████████████████████████████████████████▎                  | 7/9 [00:43<00:11,  5.66s/it]\u001b[A"
     ]
    },
    {
     "name": "stdout",
     "output_type": "stream",
     "text": [
      "MoviePy - Writing audio in C:\\Users\\User\\TikTok\\kallmekris\\audio_video\\kallmekris_6887975618592378118.wav\n",
      "MoviePy - Done.\n",
      "Всё прошло успешно! Проверьте аудио и видео №8\n"
     ]
    },
    {
     "name": "stderr",
     "output_type": "stream",
     "text": [
      " 89%|██████████████████████████████████████████████████████████████████████████▋         | 8/9 [00:45<00:05,  5.42s/it]"
     ]
    },
    {
     "name": "stdout",
     "output_type": "stream",
     "text": [
      "Видео найдено, всё хорошо! Начинаем загрузку видео и аудио в папку\n"
     ]
    },
    {
     "name": "stderr",
     "output_type": "stream",
     "text": [
      " 89%|██████████████████████████████████████████████████████████████████████████▋         | 8/9 [00:47<00:05,  5.42s/it]\n",
      "chunk:   0%|                                                                         | 0/712 [00:00<?, ?it/s, now=None]\u001b[A\n",
      "chunk:  23%|██████████████                                               | 164/712 [00:00<00:00, 1623.81it/s, now=None]\u001b[A"
     ]
    },
    {
     "name": "stdout",
     "output_type": "stream",
     "text": [
      "MoviePy - Writing audio in C:\\Users\\User\\TikTok\\kallmekris\\audio_video\\kallmekris_6890298467705457922.wav\n"
     ]
    },
    {
     "name": "stderr",
     "output_type": "stream",
     "text": [
      "\n",
      "chunk:  72%|███████████████████████████████████████████▋                 | 510/712 [00:00<00:00, 1918.43it/s, now=None]\u001b[A\n",
      " 89%|██████████████████████████████████████████████████████████████████████████▋         | 8/9 [00:48<00:05,  5.42s/it]\u001b[A"
     ]
    },
    {
     "name": "stdout",
     "output_type": "stream",
     "text": [
      "MoviePy - Done.\n",
      "Всё прошло успешно! Проверьте аудио и видео №9\n"
     ]
    },
    {
     "name": "stderr",
     "output_type": "stream",
     "text": [
      "100%|████████████████████████████████████████████████████████████████████████████████████| 9/9 [00:52<00:00,  5.88s/it]\n"
     ]
    },
    {
     "name": "stdout",
     "output_type": "stream",
     "text": [
      "Поздравляем! Код завершил свою работу\n"
     ]
    }
   ],
   "source": [
    "save_videos_audios_to_folder ('kallmekris')"
   ]
  },
  {
   "cell_type": "markdown",
   "metadata": {},
   "source": [
    "# Сбор видео из аккаунта\n",
    "\n",
    "На примере аккаунта simplebiologist."
   ]
  },
  {
   "cell_type": "code",
   "execution_count": 5,
   "metadata": {},
   "outputs": [
    {
     "name": "stdout",
     "output_type": "stream",
     "text": [
      "Вручную реши капчу!\n",
      "Сохранили все ссылки в файл\n"
     ]
    }
   ],
   "source": [
    "collected_links = creator_links ('simplebiologist')"
   ]
  },
  {
   "cell_type": "code",
   "execution_count": 6,
   "metadata": {},
   "outputs": [
    {
     "name": "stderr",
     "output_type": "stream",
     "text": [
      "  0%|                                                                                           | 0/25 [00:00<?, ?it/s]"
     ]
    },
    {
     "name": "stdout",
     "output_type": "stream",
     "text": [
      "Приступаем к парсингу уникальных характеристик видео\n",
      "Не переживайте, процесс может занять некоторое время\n"
     ]
    },
    {
     "name": "stderr",
     "output_type": "stream",
     "text": [
      "100%|██████████████████████████████████████████████████████████████████████████████████| 25/25 [01:49<00:00,  4.38s/it]\n"
     ]
    },
    {
     "name": "stdout",
     "output_type": "stream",
     "text": [
      "Записали уникальные характеристики видео в файл\n",
      "Приступаем к парсингу комментариев для видео\n",
      "Не переживайте, процесс может занять некоторое время\n",
      "Сложив числа между двумя плашками прогресса, вы можете навскидку сказать,\n",
      "сколько примерно комментариев под видео, которое парсится на данный момент.\n",
      "То есть если вы видите: \"50 Это не конец 49 Это конец\", то у видео больше 50, но меньше 100 комментариев\n",
      "Приступаем к сбору тэгов из подписей к видео\n",
      "#friendsinhighplaces\n",
      "#spidersarefriends\n",
      "#fyp\n",
      "#science\n",
      "#todayilearned\n",
      "#bio\n",
      "#funfact\n",
      "#science\n",
      "#storytime\n",
      "#bedbugs\n",
      "#fyp\n",
      "#nothanks\n",
      "#science\n",
      "#ants\n",
      "#fyp\n",
      "#toomany\n",
      "#funfact\n",
      "#science\n",
      "#storytime\n",
      "#fyp\n",
      "#rainbowconnection\n",
      "#science\n",
      "#covid19\n",
      "#answeringquestions\n",
      "#fyp\n",
      "#covid19\n",
      "#vaccine\n",
      "#fyp\n",
      "#science\n",
      "#moon\n",
      "#fyp\n",
      "#todayilearned\n",
      "#science\n",
      "#fyp\n",
      "#storytime\n",
      "#stamps\n",
      "#physics\n",
      "#fyp\n",
      "#science\n",
      "#storytime\n",
      "#worry\n",
      "#vaccine\n",
      "#science\n",
      "#dramatic\n",
      "#parody\n",
      "#fyp\n",
      "#science\n",
      "#storytime\n",
      "#fyp\n",
      "#birds\n",
      "#birdsarentreal\n",
      "#honeymoon\n",
      "#romantic\n",
      "#covid\n",
      "#covid19\n",
      "#nosmell\n",
      "#science\n",
      "#scienceismagic\n",
      "#brainpower\n",
      "#science\n",
      "#storytime\n",
      "#fyp\n",
      "#foryou\n",
      "#foryoupage\n",
      "#scienceismagic\n",
      "#tasmaniandevil\n",
      "#cancer\n",
      "#scary\n",
      "#science\n",
      "#nobelprize\n",
      "#scienceiscool\n",
      "#foryou\n",
      "#fyp\n",
      "#storytime\n",
      "#immunesystem\n",
      "#crispr\n",
      "#science\n",
      "#foryou\n",
      "#fyp\n",
      "#scienceiscool\n",
      "#storytime\n",
      "#astrazeneca\n",
      "#covid19\n",
      "#scienceismagic\n",
      "#science\n",
      "#fyp\n",
      "#foryoupage\n",
      "#covidvaccine\n",
      "#alltheleavesarebrown\n",
      "#covid19\n",
      "#fyp\n",
      "#covidvaccine\n",
      "#coronavirus\n",
      "#coronavirusvaccine\n",
      "#foryou\n",
      "#fyp\n",
      "#science\n",
      "#scienceismagic\n",
      "#pfizer\n",
      "#moderna\n",
      "#covid\n",
      "#covid19\n",
      "#covidvaccine\n",
      "#science\n",
      "#scienceismagic\n",
      "#foryou\n",
      "#pfizer\n",
      "#pfizervaccine\n",
      "#womeninstem\n",
      "#science\n",
      "#nobelprize\n",
      "#foryou\n",
      "#hepatitis\n",
      "#hepatitisc\n",
      "#scienceisfun\n",
      "#storytime\n",
      "#science\n",
      "#nobelprize\n",
      "#foryou\n",
      "#hepatitis\n",
      "#hepatitisc\n",
      "#scienceisfun\n",
      "#storytime\n",
      "#science\n",
      "#nobelprize\n",
      "#foryou\n",
      "#hepatitis\n",
      "#hepatitisc\n",
      "#scienceisfun\n",
      "#storytime\n",
      "#science\n",
      "#nobelprize\n",
      "#foryou\n",
      "#hepatitis\n",
      "#hepatitisc\n",
      "#scienceisfun\n",
      "#storytime\n",
      "Записали вторую часть тэгов в файл\n",
      "Превращаем csv-файл тэгов в gexf-файл для создания графа\n",
      "Gexf-файл успешно сохранён\n",
      "Ура! Код завершил работу. Проверьте Ваши файлы\n"
     ]
    }
   ],
   "source": [
    "csv_links_parse (collected_links, 'simplebiologist')"
   ]
  },
  {
   "cell_type": "markdown",
   "metadata": {},
   "source": [
    "Создайте вручную папку по названию аккаунта и перенесите туда созданные папки."
   ]
  },
  {
   "cell_type": "code",
   "execution_count": 8,
   "metadata": {},
   "outputs": [
    {
     "name": "stderr",
     "output_type": "stream",
     "text": [
      "  0%|                                                                                           | 0/25 [00:00<?, ?it/s]"
     ]
    },
    {
     "name": "stdout",
     "output_type": "stream",
     "text": [
      "Successfully created the directory C:\\Users\\User\\TikTok\\simplebiologist\n",
      "Папка \"audio_video\" успешно создана в папке simplebiologist текущей директории\n",
      "Видео найдено, всё хорошо! Начинаем загрузку видео и аудио в папку\n"
     ]
    },
    {
     "name": "stderr",
     "output_type": "stream",
     "text": [
      "  0%|                                                                                           | 0/25 [00:01<?, ?it/s]\n",
      "chunk:   0%|                                                                         | 0/704 [00:00<?, ?it/s, now=None]\u001b[A\n",
      "chunk:  22%|█████████████▎                                               | 153/704 [00:00<00:00, 1485.45it/s, now=None]\u001b[A"
     ]
    },
    {
     "name": "stdout",
     "output_type": "stream",
     "text": [
      "MoviePy - Writing audio in C:\\Users\\User\\TikTok\\simplebiologist\\audio_video\\simplebiologist_6956704071315229957.wav\n"
     ]
    },
    {
     "name": "stderr",
     "output_type": "stream",
     "text": [
      "\n",
      "chunk:  69%|██████████████████████████████████████████▎                  | 488/704 [00:00<00:00, 1780.36it/s, now=None]\u001b[A\n",
      "  0%|                                                                                           | 0/25 [00:01<?, ?it/s]\u001b[A"
     ]
    },
    {
     "name": "stdout",
     "output_type": "stream",
     "text": [
      "MoviePy - Done.\n",
      "Всё прошло успешно! Проверьте аудио и видео №1\n"
     ]
    },
    {
     "name": "stderr",
     "output_type": "stream",
     "text": [
      "  4%|███▎                                                                               | 1/25 [00:06<02:32,  6.36s/it]"
     ]
    },
    {
     "name": "stdout",
     "output_type": "stream",
     "text": [
      "Видео найдено, всё хорошо! Начинаем загрузку видео и аудио в папку\n"
     ]
    },
    {
     "name": "stderr",
     "output_type": "stream",
     "text": [
      "  4%|███▎                                                                               | 1/25 [00:09<02:32,  6.36s/it]\n",
      "chunk:   0%|                                                                        | 0/1196 [00:00<?, ?it/s, now=None]\u001b[A\n",
      "chunk:  13%|███████▋                                                    | 152/1196 [00:00<00:00, 1519.89it/s, now=None]\u001b[A"
     ]
    },
    {
     "name": "stdout",
     "output_type": "stream",
     "text": [
      "MoviePy - Writing audio in C:\\Users\\User\\TikTok\\simplebiologist\\audio_video\\simplebiologist_6955586314469166342.wav\n"
     ]
    },
    {
     "name": "stderr",
     "output_type": "stream",
     "text": [
      "\n",
      "chunk:  38%|███████████████████████                                     | 459/1196 [00:00<00:00, 1788.09it/s, now=None]\u001b[A\n",
      "chunk:  67%|████████████████████████████████████████▍                   | 807/1196 [00:00<00:00, 2078.43it/s, now=None]\u001b[A\n",
      "chunk:  96%|████████████████████████████████████████████████████████▌  | 1146/1196 [00:00<00:00, 2351.34it/s, now=None]\u001b[A\n",
      "  4%|███▎                                                                               | 1/25 [00:09<02:32,  6.36s/it]\u001b[A"
     ]
    },
    {
     "name": "stdout",
     "output_type": "stream",
     "text": [
      "MoviePy - Done.\n",
      "Всё прошло успешно! Проверьте аудио и видео №2\n"
     ]
    },
    {
     "name": "stderr",
     "output_type": "stream",
     "text": [
      "  8%|██████▋                                                                            | 2/25 [00:13<02:30,  6.53s/it]"
     ]
    },
    {
     "name": "stdout",
     "output_type": "stream",
     "text": [
      "Видео найдено, всё хорошо! Начинаем загрузку видео и аудио в папку\n"
     ]
    },
    {
     "name": "stderr",
     "output_type": "stream",
     "text": [
      "  8%|██████▋                                                                            | 2/25 [00:16<02:30,  6.53s/it]\n",
      "chunk:   0%|                                                                        | 0/1305 [00:00<?, ?it/s, now=None]\u001b[A\n",
      "chunk:  12%|███████                                                     | 153/1305 [00:00<00:00, 1471.19it/s, now=None]\u001b[A"
     ]
    },
    {
     "name": "stdout",
     "output_type": "stream",
     "text": [
      "MoviePy - Writing audio in C:\\Users\\User\\TikTok\\simplebiologist\\audio_video\\simplebiologist_6950797226595667206.wav\n"
     ]
    },
    {
     "name": "stderr",
     "output_type": "stream",
     "text": [
      "\n",
      "chunk:  37%|██████████████████████                                      | 481/1305 [00:00<00:00, 1760.00it/s, now=None]\u001b[A\n",
      "chunk:  63%|█████████████████████████████████████▌                      | 816/1305 [00:00<00:00, 2037.23it/s, now=None]\u001b[A\n",
      "chunk:  89%|████████████████████████████████████████████████████▎      | 1157/1305 [00:00<00:00, 2312.36it/s, now=None]\u001b[A\n",
      "  8%|██████▋                                                                            | 2/25 [00:16<02:30,  6.53s/it]\u001b[A"
     ]
    },
    {
     "name": "stdout",
     "output_type": "stream",
     "text": [
      "MoviePy - Done.\n",
      "Всё прошло успешно! Проверьте аудио и видео №3\n"
     ]
    },
    {
     "name": "stderr",
     "output_type": "stream",
     "text": [
      " 12%|█████████▉                                                                         | 3/25 [00:19<02:21,  6.42s/it]"
     ]
    },
    {
     "name": "stdout",
     "output_type": "stream",
     "text": [
      "Видео найдено, всё хорошо! Начинаем загрузку видео и аудио в папку\n"
     ]
    },
    {
     "name": "stderr",
     "output_type": "stream",
     "text": [
      " 12%|█████████▉                                                                         | 3/25 [00:22<02:21,  6.42s/it]\n",
      "chunk:   0%|                                                                         | 0/799 [00:00<?, ?it/s, now=None]\u001b[A\n",
      "chunk:  19%|███████████▋                                                 | 153/799 [00:00<00:00, 1485.50it/s, now=None]\u001b[A"
     ]
    },
    {
     "name": "stdout",
     "output_type": "stream",
     "text": [
      "MoviePy - Writing audio in C:\\Users\\User\\TikTok\\simplebiologist\\audio_video\\simplebiologist_6938929636919348486.wav\n"
     ]
    },
    {
     "name": "stderr",
     "output_type": "stream",
     "text": [
      "\n",
      "chunk:  61%|█████████████████████████████████████                        | 486/799 [00:00<00:00, 1778.68it/s, now=None]\u001b[A\n",
      " 12%|█████████▉                                                                         | 3/25 [00:22<02:21,  6.42s/it]\u001b[A"
     ]
    },
    {
     "name": "stdout",
     "output_type": "stream",
     "text": [
      "MoviePy - Done.\n",
      "Всё прошло успешно! Проверьте аудио и видео №4\n"
     ]
    },
    {
     "name": "stderr",
     "output_type": "stream",
     "text": [
      " 16%|█████████████▎                                                                     | 4/25 [00:26<02:16,  6.48s/it]"
     ]
    },
    {
     "name": "stdout",
     "output_type": "stream",
     "text": [
      "Видео найдено, всё хорошо! Начинаем загрузку видео и аудио в папку\n"
     ]
    },
    {
     "name": "stderr",
     "output_type": "stream",
     "text": [
      " 16%|█████████████▎                                                                     | 4/25 [00:29<02:16,  6.48s/it]\n",
      "chunk:   0%|                                                                        | 0/1304 [00:00<?, ?it/s, now=None]\u001b[A\n",
      "chunk:  12%|███████                                                     | 153/1304 [00:00<00:00, 1500.03it/s, now=None]\u001b[A"
     ]
    },
    {
     "name": "stdout",
     "output_type": "stream",
     "text": [
      "MoviePy - Writing audio in C:\\Users\\User\\TikTok\\simplebiologist\\audio_video\\simplebiologist_6935957154994212101.wav\n"
     ]
    },
    {
     "name": "stderr",
     "output_type": "stream",
     "text": [
      "\n",
      "chunk:  37%|██████████████████████▎                                     | 486/1304 [00:00<00:00, 1793.25it/s, now=None]\u001b[A\n",
      "chunk:  63%|█████████████████████████████████████▌                      | 816/1304 [00:00<00:00, 2073.95it/s, now=None]\u001b[A\n",
      "chunk:  88%|████████████████████████████████████████████████████       | 1151/1304 [00:00<00:00, 2341.52it/s, now=None]\u001b[A\n",
      " 16%|█████████████▎                                                                     | 4/25 [00:30<02:16,  6.48s/it]\u001b[A"
     ]
    },
    {
     "name": "stdout",
     "output_type": "stream",
     "text": [
      "MoviePy - Done.\n",
      "Всё прошло успешно! Проверьте аудио и видео №5\n"
     ]
    },
    {
     "name": "stderr",
     "output_type": "stream",
     "text": [
      " 20%|████████████████▌                                                                  | 5/25 [00:35<02:26,  7.33s/it]"
     ]
    },
    {
     "name": "stdout",
     "output_type": "stream",
     "text": [
      "Видео найдено, всё хорошо! Начинаем загрузку видео и аудио в папку\n"
     ]
    },
    {
     "name": "stderr",
     "output_type": "stream",
     "text": [
      " 20%|████████████████▌                                                                  | 5/25 [00:36<02:26,  7.33s/it]\n",
      "chunk:   0%|                                                                         | 0/671 [00:00<?, ?it/s, now=None]\u001b[A"
     ]
    },
    {
     "name": "stdout",
     "output_type": "stream",
     "text": [
      "MoviePy - Writing audio in C:\\Users\\User\\TikTok\\simplebiologist\\audio_video\\simplebiologist_6932976687638433029.wav\n"
     ]
    },
    {
     "name": "stderr",
     "output_type": "stream",
     "text": [
      "\n",
      "chunk:   5%|███▍                                                           | 36/671 [00:00<00:06, 101.04it/s, now=None]\u001b[A\n",
      "chunk:  53%|████████████████████████████████▊                             | 355/671 [00:00<00:02, 142.41it/s, now=None]\u001b[A\n",
      "chunk:  95%|███████████████████████████████████████████████████████████   | 639/671 [00:00<00:00, 199.17it/s, now=None]\u001b[A\n",
      " 20%|████████████████▌                                                                  | 5/25 [00:37<02:26,  7.33s/it]\u001b[A"
     ]
    },
    {
     "name": "stdout",
     "output_type": "stream",
     "text": [
      "MoviePy - Done.\n",
      "Всё прошло успешно! Проверьте аудио и видео №6\n"
     ]
    },
    {
     "name": "stderr",
     "output_type": "stream",
     "text": [
      " 24%|███████████████████▉                                                               | 6/25 [00:41<02:13,  7.04s/it]"
     ]
    },
    {
     "name": "stdout",
     "output_type": "stream",
     "text": [
      "Видео найдено, всё хорошо! Начинаем загрузку видео и аудио в папку\n"
     ]
    },
    {
     "name": "stderr",
     "output_type": "stream",
     "text": [
      " 24%|███████████████████▉                                                               | 6/25 [00:44<02:13,  7.04s/it]\n",
      "chunk:   0%|                                                                        | 0/1304 [00:00<?, ?it/s, now=None]\u001b[A\n",
      "chunk:  12%|███████                                                     | 154/1304 [00:00<00:00, 1524.79it/s, now=None]\u001b[A"
     ]
    },
    {
     "name": "stdout",
     "output_type": "stream",
     "text": [
      "MoviePy - Writing audio in C:\\Users\\User\\TikTok\\simplebiologist\\audio_video\\simplebiologist_6931121890224377093.wav\n"
     ]
    },
    {
     "name": "stderr",
     "output_type": "stream",
     "text": [
      "\n",
      "chunk:  37%|██████████████████████▏                                     | 483/1304 [00:00<00:00, 1817.30it/s, now=None]\u001b[A\n",
      "chunk:  63%|█████████████████████████████████████▌                      | 817/1304 [00:00<00:00, 2101.27it/s, now=None]\u001b[A\n",
      "chunk:  89%|████████████████████████████████████████████████████▎      | 1155/1304 [00:00<00:00, 2370.28it/s, now=None]\u001b[A\n",
      " 24%|███████████████████▉                                                               | 6/25 [00:44<02:13,  7.04s/it]\u001b[A"
     ]
    },
    {
     "name": "stdout",
     "output_type": "stream",
     "text": [
      "MoviePy - Done.\n",
      "Всё прошло успешно! Проверьте аудио и видео №7\n"
     ]
    },
    {
     "name": "stderr",
     "output_type": "stream",
     "text": [
      " 28%|███████████████████████▏                                                           | 7/25 [00:48<02:04,  6.90s/it]"
     ]
    },
    {
     "name": "stdout",
     "output_type": "stream",
     "text": [
      "Видео найдено, всё хорошо! Начинаем загрузку видео и аудио в папку\n"
     ]
    },
    {
     "name": "stderr",
     "output_type": "stream",
     "text": [
      " 28%|███████████████████████▏                                                           | 7/25 [00:49<02:04,  6.90s/it]\n",
      "chunk:   0%|                                                                         | 0/705 [00:00<?, ?it/s, now=None]\u001b[A\n",
      "chunk:  22%|█████████████▏                                               | 153/705 [00:00<00:00, 1499.93it/s, now=None]\u001b[A"
     ]
    },
    {
     "name": "stdout",
     "output_type": "stream",
     "text": [
      "MoviePy - Writing audio in C:\\Users\\User\\TikTok\\simplebiologist\\audio_video\\simplebiologist_6928166533776674053.wav\n"
     ]
    },
    {
     "name": "stderr",
     "output_type": "stream",
     "text": [
      "\n",
      "chunk:  69%|█████████████████████████████████████████▉                   | 485/705 [00:00<00:00, 1792.29it/s, now=None]\u001b[A\n",
      " 28%|███████████████████████▏                                                           | 7/25 [00:49<02:04,  6.90s/it]\u001b[A"
     ]
    },
    {
     "name": "stdout",
     "output_type": "stream",
     "text": [
      "MoviePy - Done.\n",
      "Всё прошло успешно! Проверьте аудио и видео №8\n"
     ]
    },
    {
     "name": "stderr",
     "output_type": "stream",
     "text": [
      " 32%|██████████████████████████▌                                                        | 8/25 [00:54<01:55,  6.78s/it]"
     ]
    },
    {
     "name": "stdout",
     "output_type": "stream",
     "text": [
      "Видео найдено, всё хорошо! Начинаем загрузку видео и аудио в папку\n"
     ]
    },
    {
     "name": "stderr",
     "output_type": "stream",
     "text": [
      " 32%|██████████████████████████▌                                                        | 8/25 [00:58<01:55,  6.78s/it]\n",
      "chunk:   0%|                                                                        | 0/1301 [00:00<?, ?it/s, now=None]\u001b[A\n",
      "chunk:  10%|█████▊                                                      | 126/1301 [00:00<00:00, 1259.99it/s, now=None]\u001b[A"
     ]
    },
    {
     "name": "stdout",
     "output_type": "stream",
     "text": [
      "MoviePy - Writing audio in C:\\Users\\User\\TikTok\\simplebiologist\\audio_video\\simplebiologist_6925463731921046790.wav\n"
     ]
    },
    {
     "name": "stderr",
     "output_type": "stream",
     "text": [
      "\n",
      "chunk:  31%|██████████████████▌                                         | 403/1301 [00:00<00:00, 1503.88it/s, now=None]\u001b[A\n",
      "chunk:  55%|████████████████████████████████▊                           | 711/1301 [00:00<00:00, 1776.62it/s, now=None]\u001b[A\n",
      "chunk:  78%|██████████████████████████████████████████████▎            | 1020/1301 [00:00<00:00, 2020.26it/s, now=None]\u001b[A\n",
      " 32%|██████████████████████████▌                                                        | 8/25 [00:58<01:55,  6.78s/it]\u001b[A"
     ]
    },
    {
     "name": "stdout",
     "output_type": "stream",
     "text": [
      "MoviePy - Done.\n",
      "Всё прошло успешно! Проверьте аудио и видео №9\n"
     ]
    },
    {
     "name": "stderr",
     "output_type": "stream",
     "text": [
      " 36%|█████████████████████████████▉                                                     | 9/25 [01:01<01:47,  6.72s/it]"
     ]
    },
    {
     "name": "stdout",
     "output_type": "stream",
     "text": [
      "Видео найдено, всё хорошо! Начинаем загрузку видео и аудио в папку\n"
     ]
    },
    {
     "name": "stderr",
     "output_type": "stream",
     "text": [
      " 36%|█████████████████████████████▉                                                     | 9/25 [01:03<01:47,  6.72s/it]\n",
      "chunk:   0%|                                                                        | 0/1300 [00:00<?, ?it/s, now=None]\u001b[A\n",
      "chunk:  12%|███████                                                     | 153/1300 [00:00<00:00, 1471.06it/s, now=None]\u001b[A"
     ]
    },
    {
     "name": "stdout",
     "output_type": "stream",
     "text": [
      "MoviePy - Writing audio in C:\\Users\\User\\TikTok\\simplebiologist\\audio_video\\simplebiologist_6920742854088297734.wav\n"
     ]
    },
    {
     "name": "stderr",
     "output_type": "stream",
     "text": [
      "\n",
      "chunk:  37%|██████████████████████▍                                     | 487/1300 [00:00<00:00, 1765.03it/s, now=None]\u001b[A\n",
      "chunk:  63%|█████████████████████████████████████▋                      | 817/1300 [00:00<00:00, 2047.47it/s, now=None]\u001b[A\n",
      "chunk:  89%|████████████████████████████████████████████████████▍      | 1156/1300 [00:00<00:00, 2323.52it/s, now=None]\u001b[A\n",
      " 36%|█████████████████████████████▉                                                     | 9/25 [01:04<01:47,  6.72s/it]\u001b[A"
     ]
    },
    {
     "name": "stdout",
     "output_type": "stream",
     "text": [
      "MoviePy - Done.\n",
      "Всё прошло успешно! Проверьте аудио и видео №10\n"
     ]
    },
    {
     "name": "stderr",
     "output_type": "stream",
     "text": [
      " 40%|████████████████████████████████▊                                                 | 10/25 [01:10<01:49,  7.32s/it]"
     ]
    },
    {
     "name": "stdout",
     "output_type": "stream",
     "text": [
      "Видео найдено, всё хорошо! Начинаем загрузку видео и аудио в папку\n"
     ]
    },
    {
     "name": "stderr",
     "output_type": "stream",
     "text": [
      " 40%|████████████████████████████████▊                                                 | 10/25 [01:12<01:49,  7.32s/it]\n",
      "chunk:   0%|                                                                        | 0/1065 [00:00<?, ?it/s, now=None]\u001b[A\n",
      "chunk:  14%|████████▌                                                   | 153/1065 [00:00<00:00, 1499.96it/s, now=None]\u001b[A"
     ]
    },
    {
     "name": "stdout",
     "output_type": "stream",
     "text": [
      "MoviePy - Writing audio in C:\\Users\\User\\TikTok\\simplebiologist\\audio_video\\simplebiologist_6914427575444016390.wav\n"
     ]
    },
    {
     "name": "stderr",
     "output_type": "stream",
     "text": [
      "\n",
      "chunk:  46%|███████████████████████████▌                                | 489/1065 [00:00<00:00, 1795.80it/s, now=None]\u001b[A\n",
      "chunk:  77%|██████████████████████████████████████████████▍             | 825/1065 [00:00<00:00, 2083.43it/s, now=None]\u001b[A\n",
      " 40%|████████████████████████████████▊                                                 | 10/25 [01:13<01:49,  7.32s/it]\u001b[A"
     ]
    },
    {
     "name": "stdout",
     "output_type": "stream",
     "text": [
      "MoviePy - Done.\n",
      "Всё прошло успешно! Проверьте аудио и видео №11\n"
     ]
    },
    {
     "name": "stderr",
     "output_type": "stream",
     "text": [
      " 44%|████████████████████████████████████                                              | 11/25 [01:17<01:44,  7.45s/it]"
     ]
    },
    {
     "name": "stdout",
     "output_type": "stream",
     "text": [
      "Видео найдено, всё хорошо! Начинаем загрузку видео и аудио в папку\n"
     ]
    },
    {
     "name": "stderr",
     "output_type": "stream",
     "text": [
      " 44%|████████████████████████████████████                                              | 11/25 [01:20<01:44,  7.45s/it]\n",
      "chunk:   0%|                                                                        | 0/1304 [00:00<?, ?it/s, now=None]\u001b[A\n",
      "chunk:   8%|████▊                                                        | 102/1304 [00:00<00:01, 990.31it/s, now=None]\u001b[A"
     ]
    },
    {
     "name": "stdout",
     "output_type": "stream",
     "text": [
      "MoviePy - Writing audio in C:\\Users\\User\\TikTok\\simplebiologist\\audio_video\\simplebiologist_6914080060060257542.wav\n"
     ]
    },
    {
     "name": "stderr",
     "output_type": "stream",
     "text": [
      "\n",
      "chunk:  31%|██████████████████▊                                         | 408/1304 [00:00<00:00, 1236.38it/s, now=None]\u001b[A\n",
      "chunk:  55%|████████████████████████████████▉                           | 715/1304 [00:00<00:00, 1506.27it/s, now=None]\u001b[A\n",
      "chunk:  78%|██████████████████████████████████████████████▏            | 1020/1304 [00:00<00:00, 1763.61it/s, now=None]\u001b[A\n",
      " 44%|████████████████████████████████████                                              | 11/25 [01:21<01:44,  7.45s/it]\u001b[A"
     ]
    },
    {
     "name": "stdout",
     "output_type": "stream",
     "text": [
      "MoviePy - Done.\n",
      "Всё прошло успешно! Проверьте аудио и видео №12\n"
     ]
    },
    {
     "name": "stderr",
     "output_type": "stream",
     "text": [
      " 48%|███████████████████████████████████████▎                                          | 12/25 [01:25<01:37,  7.50s/it]"
     ]
    },
    {
     "name": "stdout",
     "output_type": "stream",
     "text": [
      "Видео найдено, всё хорошо! Начинаем загрузку видео и аудио в папку\n"
     ]
    },
    {
     "name": "stderr",
     "output_type": "stream",
     "text": [
      " 48%|███████████████████████████████████████▎                                          | 12/25 [01:28<01:37,  7.50s/it]\n",
      "chunk:   0%|                                                                        | 0/1047 [00:00<?, ?it/s, now=None]\u001b[A\n",
      "chunk:  14%|████████▎                                                   | 146/1047 [00:00<00:00, 1460.00it/s, now=None]\u001b[A"
     ]
    },
    {
     "name": "stdout",
     "output_type": "stream",
     "text": [
      "MoviePy - Writing audio in C:\\Users\\User\\TikTok\\simplebiologist\\audio_video\\simplebiologist_6909928245509098758.wav\n"
     ]
    },
    {
     "name": "stderr",
     "output_type": "stream",
     "text": [
      "\n",
      "chunk:  44%|██████████████████████████▎                                 | 459/1047 [00:00<00:00, 1735.34it/s, now=None]\u001b[A\n",
      "chunk:  76%|█████████████████████████████████████████████▍              | 793/1047 [00:00<00:00, 2027.57it/s, now=None]\u001b[A\n",
      " 48%|███████████████████████████████████████▎                                          | 12/25 [01:28<01:37,  7.50s/it]\u001b[A"
     ]
    },
    {
     "name": "stdout",
     "output_type": "stream",
     "text": [
      "MoviePy - Done.\n",
      "Всё прошло успешно! Проверьте аудио и видео №13\n"
     ]
    },
    {
     "name": "stderr",
     "output_type": "stream",
     "text": [
      " 52%|██████████████████████████████████████████▋                                       | 13/25 [01:30<01:22,  6.89s/it]"
     ]
    },
    {
     "name": "stdout",
     "output_type": "stream",
     "text": [
      "Видео найдено, всё хорошо! Начинаем загрузку видео и аудио в папку\n"
     ]
    },
    {
     "name": "stderr",
     "output_type": "stream",
     "text": [
      " 52%|██████████████████████████████████████████▋                                       | 13/25 [01:33<01:22,  6.89s/it]\n",
      "chunk:   0%|                                                                        | 0/1326 [00:00<?, ?it/s, now=None]\u001b[A\n",
      "chunk:  10%|█████▉                                                      | 131/1326 [00:00<00:00, 1297.03it/s, now=None]\u001b[A"
     ]
    },
    {
     "name": "stdout",
     "output_type": "stream",
     "text": [
      "MoviePy - Writing audio in C:\\Users\\User\\TikTok\\simplebiologist\\audio_video\\simplebiologist_6908891766288698629.wav\n"
     ]
    },
    {
     "name": "stderr",
     "output_type": "stream",
     "text": [
      "\n",
      "chunk:  35%|████████████████████▊                                       | 459/1326 [00:00<00:00, 1582.10it/s, now=None]\u001b[A\n",
      "chunk:  58%|██████████████████████████████████▌                         | 765/1326 [00:00<00:00, 1850.17it/s, now=None]\u001b[A\n",
      "chunk:  83%|████████████████████████████████████████████████▊          | 1096/1326 [00:00<00:00, 2128.19it/s, now=None]\u001b[A\n",
      " 52%|██████████████████████████████████████████▋                                       | 13/25 [01:33<01:22,  6.89s/it]\u001b[A"
     ]
    },
    {
     "name": "stdout",
     "output_type": "stream",
     "text": [
      "MoviePy - Done.\n",
      "Всё прошло успешно! Проверьте аудио и видео №14\n"
     ]
    },
    {
     "name": "stderr",
     "output_type": "stream",
     "text": [
      " 56%|█████████████████████████████████████████████▉                                    | 14/25 [01:36<01:09,  6.36s/it]"
     ]
    },
    {
     "name": "stdout",
     "output_type": "stream",
     "text": [
      "Видео найдено, всё хорошо! Начинаем загрузку видео и аудио в папку\n"
     ]
    },
    {
     "name": "stderr",
     "output_type": "stream",
     "text": [
      " 56%|█████████████████████████████████████████████▉                                    | 14/25 [01:39<01:09,  6.36s/it]\n",
      "chunk:   0%|                                                                        | 0/1322 [00:00<?, ?it/s, now=None]\u001b[A\n",
      "chunk:   9%|█████▎                                                      | 118/1322 [00:00<00:01, 1180.00it/s, now=None]\u001b[A"
     ]
    },
    {
     "name": "stdout",
     "output_type": "stream",
     "text": [
      "MoviePy - Writing audio in C:\\Users\\User\\TikTok\\simplebiologist\\audio_video\\simplebiologist_6907277635961801990.wav\n"
     ]
    },
    {
     "name": "stderr",
     "output_type": "stream",
     "text": [
      "\n",
      "chunk:  35%|████████████████████▊                                       | 459/1322 [00:00<00:00, 1460.46it/s, now=None]\u001b[A\n",
      "chunk:  61%|████████████████████████████████████▊                       | 811/1322 [00:00<00:00, 1771.38it/s, now=None]\u001b[A\n",
      "chunk:  87%|███████████████████████████████████████████████████▏       | 1147/1322 [00:00<00:00, 2060.38it/s, now=None]\u001b[A\n",
      " 56%|█████████████████████████████████████████████▉                                    | 14/25 [01:40<01:09,  6.36s/it]\u001b[A"
     ]
    },
    {
     "name": "stdout",
     "output_type": "stream",
     "text": [
      "MoviePy - Done.\n",
      "Всё прошло успешно! Проверьте аудио и видео №15\n"
     ]
    },
    {
     "name": "stderr",
     "output_type": "stream",
     "text": [
      " 60%|█████████████████████████████████████████████████▏                                | 15/25 [01:42<01:02,  6.28s/it]"
     ]
    },
    {
     "name": "stdout",
     "output_type": "stream",
     "text": [
      "Видео найдено, всё хорошо! Начинаем загрузку видео и аудио в папку\n"
     ]
    },
    {
     "name": "stderr",
     "output_type": "stream",
     "text": [
      " 60%|█████████████████████████████████████████████████▏                                | 15/25 [01:44<01:02,  6.28s/it]\n",
      "chunk:   0%|                                                                        | 0/1314 [00:00<?, ?it/s, now=None]\u001b[A\n",
      "chunk:  12%|██████▉                                                     | 153/1314 [00:00<00:00, 1499.96it/s, now=None]\u001b[A"
     ]
    },
    {
     "name": "stdout",
     "output_type": "stream",
     "text": [
      "MoviePy - Writing audio in C:\\Users\\User\\TikTok\\simplebiologist\\audio_video\\simplebiologist_6904417584288926982.wav\n"
     ]
    },
    {
     "name": "stderr",
     "output_type": "stream",
     "text": [
      "\n",
      "chunk:  38%|███████████████████████                                     | 504/1314 [00:00<00:00, 1811.11it/s, now=None]\u001b[A\n",
      "chunk:  65%|██████████████████████████████████████▊                     | 851/1314 [00:00<00:00, 2110.51it/s, now=None]\u001b[A\n",
      "chunk:  91%|█████████████████████████████████████████████████████▊     | 1199/1314 [00:00<00:00, 2393.01it/s, now=None]\u001b[A\n",
      " 60%|█████████████████████████████████████████████████▏                                | 15/25 [01:44<01:02,  6.28s/it]\u001b[A"
     ]
    },
    {
     "name": "stdout",
     "output_type": "stream",
     "text": [
      "MoviePy - Done.\n",
      "Всё прошло успешно! Проверьте аудио и видео №16\n"
     ]
    },
    {
     "name": "stderr",
     "output_type": "stream",
     "text": [
      " 64%|████████████████████████████████████████████████████▍                             | 16/25 [01:50<01:02,  6.97s/it]"
     ]
    },
    {
     "name": "stdout",
     "output_type": "stream",
     "text": [
      "Видео найдено, всё хорошо! Начинаем загрузку видео и аудио в папку\n"
     ]
    },
    {
     "name": "stderr",
     "output_type": "stream",
     "text": [
      " 64%|████████████████████████████████████████████████████▍                             | 16/25 [01:53<01:02,  6.97s/it]\n",
      "chunk:   0%|                                                                        | 0/1325 [00:00<?, ?it/s, now=None]\u001b[A\n",
      "chunk:   9%|█████▌                                                      | 122/1325 [00:00<00:00, 1220.00it/s, now=None]\u001b[A"
     ]
    },
    {
     "name": "stdout",
     "output_type": "stream",
     "text": [
      "MoviePy - Writing audio in C:\\Users\\User\\TikTok\\simplebiologist\\audio_video\\simplebiologist_6902544523176463622.wav\n"
     ]
    },
    {
     "name": "stderr",
     "output_type": "stream",
     "text": [
      "\n",
      "chunk:  34%|████████████████████▌                                       | 454/1325 [00:00<00:00, 1503.68it/s, now=None]\u001b[A\n",
      "chunk:  61%|████████████████████████████████████▎                       | 802/1325 [00:00<00:00, 1812.47it/s, now=None]\u001b[A\n",
      "chunk:  85%|██████████████████████████████████████████████████▎        | 1129/1325 [00:00<00:00, 2092.24it/s, now=None]\u001b[A\n",
      " 64%|████████████████████████████████████████████████████▍                             | 16/25 [01:53<01:02,  6.97s/it]\u001b[A"
     ]
    },
    {
     "name": "stdout",
     "output_type": "stream",
     "text": [
      "MoviePy - Done.\n",
      "Всё прошло успешно! Проверьте аудио и видео №17\n"
     ]
    },
    {
     "name": "stderr",
     "output_type": "stream",
     "text": [
      " 68%|███████████████████████████████████████████████████████▊                          | 17/25 [01:59<00:59,  7.44s/it]"
     ]
    },
    {
     "name": "stdout",
     "output_type": "stream",
     "text": [
      "Видео найдено, всё хорошо! Начинаем загрузку видео и аудио в папку\n"
     ]
    },
    {
     "name": "stderr",
     "output_type": "stream",
     "text": [
      " 68%|███████████████████████████████████████████████████████▊                          | 17/25 [02:02<00:59,  7.44s/it]\n",
      "chunk:   0%|                                                                        | 0/1304 [00:00<?, ?it/s, now=None]\u001b[A\n",
      "chunk:  12%|███████                                                     | 153/1304 [00:00<00:00, 1485.46it/s, now=None]\u001b[A"
     ]
    },
    {
     "name": "stdout",
     "output_type": "stream",
     "text": [
      "MoviePy - Writing audio in C:\\Users\\User\\TikTok\\simplebiologist\\audio_video\\simplebiologist_6900740685247368453.wav\n"
     ]
    },
    {
     "name": "stderr",
     "output_type": "stream",
     "text": [
      "\n",
      "chunk:  37%|██████████████████████▏                                     | 483/1304 [00:00<00:00, 1778.89it/s, now=None]\u001b[A\n",
      "chunk:  63%|█████████████████████████████████████▌                      | 816/1304 [00:00<00:00, 2060.17it/s, now=None]\u001b[A\n",
      "chunk:  90%|█████████████████████████████████████████████████████      | 1173/1304 [00:00<00:00, 2350.23it/s, now=None]\u001b[A\n",
      " 68%|███████████████████████████████████████████████████████▊                          | 17/25 [02:03<00:59,  7.44s/it]\u001b[A"
     ]
    },
    {
     "name": "stdout",
     "output_type": "stream",
     "text": [
      "MoviePy - Done.\n",
      "Всё прошло успешно! Проверьте аудио и видео №18\n"
     ]
    },
    {
     "name": "stderr",
     "output_type": "stream",
     "text": [
      " 72%|███████████████████████████████████████████████████████████                       | 18/25 [02:07<00:54,  7.80s/it]"
     ]
    },
    {
     "name": "stdout",
     "output_type": "stream",
     "text": [
      "Видео найдено, всё хорошо! Начинаем загрузку видео и аудио в папку\n"
     ]
    },
    {
     "name": "stderr",
     "output_type": "stream",
     "text": [
      " 72%|███████████████████████████████████████████████████████████                       | 18/25 [02:09<00:54,  7.80s/it]\n",
      "chunk:   0%|                                                                         | 0/333 [00:00<?, ?it/s, now=None]\u001b[A\n",
      "chunk:  46%|████████████████████████████                                 | 153/333 [00:00<00:00, 1514.90it/s, now=None]\u001b[A\n",
      " 72%|███████████████████████████████████████████████████████████                       | 18/25 [02:09<00:54,  7.80s/it]\u001b[A"
     ]
    },
    {
     "name": "stdout",
     "output_type": "stream",
     "text": [
      "MoviePy - Writing audio in C:\\Users\\User\\TikTok\\simplebiologist\\audio_video\\simplebiologist_6900235376875572486.wav\n",
      "MoviePy - Done.\n",
      "Всё прошло успешно! Проверьте аудио и видео №19\n"
     ]
    },
    {
     "name": "stderr",
     "output_type": "stream",
     "text": [
      " 76%|██████████████████████████████████████████████████████████████▎                   | 19/25 [02:12<00:40,  6.69s/it]"
     ]
    },
    {
     "name": "stdout",
     "output_type": "stream",
     "text": [
      "Видео найдено, всё хорошо! Начинаем загрузку видео и аудио в папку\n"
     ]
    },
    {
     "name": "stderr",
     "output_type": "stream",
     "text": [
      " 76%|██████████████████████████████████████████████████████████████▎                   | 19/25 [02:15<00:40,  6.69s/it]\n",
      "chunk:   0%|                                                                        | 0/1321 [00:00<?, ?it/s, now=None]\u001b[A\n",
      "chunk:  12%|██████▉                                                     | 152/1321 [00:00<00:00, 1504.98it/s, now=None]\u001b[A"
     ]
    },
    {
     "name": "stdout",
     "output_type": "stream",
     "text": [
      "MoviePy - Writing audio in C:\\Users\\User\\TikTok\\simplebiologist\\audio_video\\simplebiologist_6896271612006518022.wav\n"
     ]
    },
    {
     "name": "stderr",
     "output_type": "stream",
     "text": [
      "\n",
      "chunk:  37%|██████████████████████▏                                     | 489/1321 [00:00<00:00, 1801.70it/s, now=None]\u001b[A\n",
      "chunk:  64%|██████████████████████████████████████▍                     | 845/1321 [00:00<00:00, 2111.33it/s, now=None]\u001b[A\n",
      "chunk:  91%|█████████████████████████████████████████████████████▋     | 1203/1321 [00:00<00:00, 2407.64it/s, now=None]\u001b[A\n",
      " 76%|██████████████████████████████████████████████████████████████▎                   | 19/25 [02:15<00:40,  6.69s/it]\u001b[A"
     ]
    },
    {
     "name": "stdout",
     "output_type": "stream",
     "text": [
      "MoviePy - Done.\n",
      "Всё прошло успешно! Проверьте аудио и видео №20\n"
     ]
    },
    {
     "name": "stderr",
     "output_type": "stream",
     "text": [
      " 80%|█████████████████████████████████████████████████████████████████▌                | 20/25 [02:21<00:36,  7.39s/it]"
     ]
    },
    {
     "name": "stdout",
     "output_type": "stream",
     "text": [
      "Видео найдено, всё хорошо! Начинаем загрузку видео и аудио в папку\n"
     ]
    },
    {
     "name": "stderr",
     "output_type": "stream",
     "text": [
      " 80%|█████████████████████████████████████████████████████████████████▌                | 20/25 [02:23<00:36,  7.39s/it]\n",
      "chunk:   0%|                                                                        | 0/1229 [00:00<?, ?it/s, now=None]\u001b[A\n",
      "chunk:  12%|███████▍                                                    | 153/1229 [00:00<00:00, 1500.02it/s, now=None]\u001b[A"
     ]
    },
    {
     "name": "stdout",
     "output_type": "stream",
     "text": [
      "MoviePy - Writing audio in C:\\Users\\User\\TikTok\\simplebiologist\\audio_video\\simplebiologist_6894048104157400326.wav\n"
     ]
    },
    {
     "name": "stderr",
     "output_type": "stream",
     "text": [
      "\n",
      "chunk:  41%|████████████████████████▉                                   | 510/1229 [00:00<00:00, 1810.38it/s, now=None]\u001b[A\n",
      "chunk:  71%|██████████████████████████████████████████▌                 | 871/1229 [00:00<00:00, 2128.73it/s, now=None]\u001b[A\n",
      " 80%|█████████████████████████████████████████████████████████████████▌                | 20/25 [02:23<00:36,  7.39s/it]\u001b[A"
     ]
    },
    {
     "name": "stdout",
     "output_type": "stream",
     "text": [
      "MoviePy - Done.\n",
      "Всё прошло успешно! Проверьте аудио и видео №21\n"
     ]
    },
    {
     "name": "stderr",
     "output_type": "stream",
     "text": [
      " 84%|████████████████████████████████████████████████████████████████████▉             | 21/25 [02:26<00:27,  6.93s/it]"
     ]
    },
    {
     "name": "stdout",
     "output_type": "stream",
     "text": [
      "Видео найдено, всё хорошо! Начинаем загрузку видео и аудио в папку\n"
     ]
    },
    {
     "name": "stderr",
     "output_type": "stream",
     "text": [
      " 84%|████████████████████████████████████████████████████████████████████▉             | 21/25 [02:29<00:27,  6.93s/it]\n",
      "chunk:   0%|                                                                         | 0/648 [00:00<?, ?it/s, now=None]\u001b[A\n",
      "chunk:  25%|███████████████                                              | 160/648 [00:00<00:00, 1584.21it/s, now=None]\u001b[A"
     ]
    },
    {
     "name": "stdout",
     "output_type": "stream",
     "text": [
      "MoviePy - Writing audio in C:\\Users\\User\\TikTok\\simplebiologist\\audio_video\\simplebiologist_6889098515495144709.wav\n"
     ]
    },
    {
     "name": "stderr",
     "output_type": "stream",
     "text": [
      "\n",
      "chunk:  79%|████████████████████████████████████████████████             | 511/648 [00:00<00:00, 1896.32it/s, now=None]\u001b[A\n",
      " 84%|████████████████████████████████████████████████████████████████████▉             | 21/25 [02:30<00:27,  6.93s/it]\u001b[A"
     ]
    },
    {
     "name": "stdout",
     "output_type": "stream",
     "text": [
      "MoviePy - Done.\n",
      "Всё прошло успешно! Проверьте аудио и видео №22\n"
     ]
    },
    {
     "name": "stderr",
     "output_type": "stream",
     "text": [
      " 88%|████████████████████████████████████████████████████████████████████████▏         | 22/25 [02:35<00:22,  7.41s/it]"
     ]
    },
    {
     "name": "stdout",
     "output_type": "stream",
     "text": [
      "Видео найдено, всё хорошо! Начинаем загрузку видео и аудио в папку\n"
     ]
    },
    {
     "name": "stderr",
     "output_type": "stream",
     "text": [
      " 88%|████████████████████████████████████████████████████████████████████████▏         | 22/25 [02:37<00:22,  7.41s/it]\n",
      "chunk:   0%|                                                                        | 0/1149 [00:00<?, ?it/s, now=None]\u001b[A\n",
      "chunk:  13%|███████▉                                                    | 153/1149 [00:00<00:00, 1499.97it/s, now=None]\u001b[A"
     ]
    },
    {
     "name": "stdout",
     "output_type": "stream",
     "text": [
      "MoviePy - Writing audio in C:\\Users\\User\\TikTok\\simplebiologist\\audio_video\\simplebiologist_6889098342668700933.wav\n"
     ]
    },
    {
     "name": "stderr",
     "output_type": "stream",
     "text": [
      "\n",
      "chunk:  43%|█████████████████████████▉                                  | 497/1149 [00:00<00:00, 1802.60it/s, now=None]\u001b[A\n",
      "chunk:  74%|████████████████████████████████████████████▎               | 848/1149 [00:00<00:00, 2110.60it/s, now=None]\u001b[A\n",
      " 88%|████████████████████████████████████████████████████████████████████████▏         | 22/25 [02:38<00:22,  7.41s/it]\u001b[A"
     ]
    },
    {
     "name": "stdout",
     "output_type": "stream",
     "text": [
      "MoviePy - Done.\n",
      "Всё прошло успешно! Проверьте аудио и видео №23\n"
     ]
    },
    {
     "name": "stderr",
     "output_type": "stream",
     "text": [
      " 92%|███████████████████████████████████████████████████████████████████████████▍      | 23/25 [02:42<00:14,  7.15s/it]"
     ]
    },
    {
     "name": "stdout",
     "output_type": "stream",
     "text": [
      "Видео найдено, всё хорошо! Начинаем загрузку видео и аудио в папку\n"
     ]
    },
    {
     "name": "stderr",
     "output_type": "stream",
     "text": [
      " 92%|███████████████████████████████████████████████████████████████████████████▍      | 23/25 [02:44<00:14,  7.15s/it]\n",
      "chunk:   0%|                                                                        | 0/1318 [00:00<?, ?it/s, now=None]\u001b[A\n",
      "chunk:  12%|██████▉                                                     | 153/1318 [00:00<00:00, 1529.97it/s, now=None]\u001b[A"
     ]
    },
    {
     "name": "stdout",
     "output_type": "stream",
     "text": [
      "MoviePy - Writing audio in C:\\Users\\User\\TikTok\\simplebiologist\\audio_video\\simplebiologist_6889098029563907333.wav\n"
     ]
    },
    {
     "name": "stderr",
     "output_type": "stream",
     "text": [
      "\n",
      "chunk:  39%|███████████████████████▏                                    | 510/1318 [00:00<00:00, 1835.14it/s, now=None]\u001b[A\n",
      "chunk:  66%|███████████████████████████████████████▌                    | 869/1318 [00:00<00:00, 2146.64it/s, now=None]\u001b[A\n",
      "chunk:  94%|███████████████████████████████████████████████████████▎   | 1237/1318 [00:00<00:00, 2448.42it/s, now=None]\u001b[A\n",
      " 92%|███████████████████████████████████████████████████████████████████████████▍      | 23/25 [02:44<00:14,  7.15s/it]\u001b[A"
     ]
    },
    {
     "name": "stdout",
     "output_type": "stream",
     "text": [
      "MoviePy - Done.\n",
      "Всё прошло успешно! Проверьте аудио и видео №24\n"
     ]
    },
    {
     "name": "stderr",
     "output_type": "stream",
     "text": [
      " 96%|██████████████████████████████████████████████████████████████████████████████▋   | 24/25 [02:49<00:07,  7.12s/it]"
     ]
    },
    {
     "name": "stdout",
     "output_type": "stream",
     "text": [
      "Видео найдено, всё хорошо! Начинаем загрузку видео и аудио в папку\n"
     ]
    },
    {
     "name": "stderr",
     "output_type": "stream",
     "text": [
      " 96%|██████████████████████████████████████████████████████████████████████████████▋   | 24/25 [02:52<00:07,  7.12s/it]\n",
      "chunk:   0%|                                                                        | 0/1292 [00:00<?, ?it/s, now=None]\u001b[A\n",
      "chunk:  12%|██████▉                                                     | 149/1292 [00:00<00:00, 1475.25it/s, now=None]\u001b[A"
     ]
    },
    {
     "name": "stdout",
     "output_type": "stream",
     "text": [
      "MoviePy - Writing audio in C:\\Users\\User\\TikTok\\simplebiologist\\audio_video\\simplebiologist_6889097710201212165.wav\n"
     ]
    },
    {
     "name": "stderr",
     "output_type": "stream",
     "text": [
      "\n",
      "chunk:  38%|██████████████████████▊                                     | 492/1292 [00:00<00:00, 1779.49it/s, now=None]\u001b[A\n",
      "chunk:  66%|███████████████████████████████████████▊                    | 857/1292 [00:00<00:00, 2099.14it/s, now=None]\u001b[A\n",
      "chunk:  95%|███████████████████████████████████████████████████████▉   | 1224/1292 [00:00<00:00, 2394.25it/s, now=None]\u001b[A\n",
      " 96%|██████████████████████████████████████████████████████████████████████████████▋   | 24/25 [02:52<00:07,  7.12s/it]\u001b[A"
     ]
    },
    {
     "name": "stdout",
     "output_type": "stream",
     "text": [
      "MoviePy - Done.\n",
      "Всё прошло успешно! Проверьте аудио и видео №25\n"
     ]
    },
    {
     "name": "stderr",
     "output_type": "stream",
     "text": [
      "100%|██████████████████████████████████████████████████████████████████████████████████| 25/25 [02:57<00:00,  7.10s/it]\n"
     ]
    },
    {
     "name": "stdout",
     "output_type": "stream",
     "text": [
      "Поздравляем! Код завершил свою работу\n"
     ]
    }
   ],
   "source": [
    "save_videos_audios_to_folder ('simplebiologist')"
   ]
  },
  {
   "cell_type": "markdown",
   "metadata": {},
   "source": [
    "# Сбор по тэгу\n",
    "\n",
    "Пример по тэгу #whatdotheylearn.\n",
    "\n",
    "Предварительно откройте страницу с тэгом (https://www.tiktok.com/tag/whatdotheylearn), проскролльте её до конца/ до нужного места, кликните правой кнопкой мыши, \"Сохранить как\", сохраните на компьютер, отформатировав название файла от исходного \"#whatdotheylearn Hashtag Videos on TikTok.html\" до \"whatdotheylearn Hashtag.html\". Загрузите в Jupyter Notebook."
   ]
  },
  {
   "cell_type": "code",
   "execution_count": 9,
   "metadata": {},
   "outputs": [
    {
     "name": "stdout",
     "output_type": "stream",
     "text": [
      "https://www.tiktok.com/@robin_d_show/video/6919958888049609986\n",
      "https://www.tiktok.com/@mrsewald/video/6947857113985076485\n",
      "Successfully created the directory C:\\Users\\User\\TikTok\\whatdotheylearn\n",
      "Папка whatdotheylearn успешно создана в текущей директории\n"
     ]
    }
   ],
   "source": [
    "collected_links = tags_parsing ('whatdotheylearn')"
   ]
  },
  {
   "cell_type": "code",
   "execution_count": 10,
   "metadata": {
    "scrolled": true
   },
   "outputs": [
    {
     "name": "stderr",
     "output_type": "stream",
     "text": [
      "  0%|                                                                                            | 0/2 [00:00<?, ?it/s]"
     ]
    },
    {
     "name": "stdout",
     "output_type": "stream",
     "text": [
      "Приступаем к парсингу уникальных характеристик видео\n",
      "Не переживайте, процесс может занять некоторое время\n"
     ]
    },
    {
     "name": "stderr",
     "output_type": "stream",
     "text": [
      "100%|████████████████████████████████████████████████████████████████████████████████████| 2/2 [00:07<00:00,  3.87s/it]\n"
     ]
    },
    {
     "name": "stdout",
     "output_type": "stream",
     "text": [
      "Записали уникальные характеристики видео в файл\n",
      "Приступаем к парсингу комментариев для видео\n",
      "Не переживайте, процесс может занять некоторое время\n",
      "Сложив числа между двумя плашками прогресса, вы можете навскидку сказать,\n",
      "сколько примерно комментариев под видео, которое парсится на данный момент.\n",
      "То есть если вы видите: \"50 Это не конец 49 Это конец\", то у видео больше 50, но меньше 100 комментариев\n",
      "Приступаем к сбору тэгов из подписей к видео\n",
      "#usa\n",
      "#americans\n",
      "#germany\n",
      "#helpme\n",
      "#whatdotheylearn\n",
      "#forreal\n",
      "#fyp\n",
      "#whatdotheylearn\n",
      "#trendi\n",
      "Записали вторую часть тэгов в файл\n",
      "Превращаем csv-файл тэгов в gexf-файл для создания графа\n",
      "Gexf-файл успешно сохранён\n",
      "Ура! Код завершил работу. Проверьте Ваши файлы\n"
     ]
    }
   ],
   "source": [
    "csv_links_parse (collected_links, 'whatdotheylearn')"
   ]
  },
  {
   "cell_type": "code",
   "execution_count": 11,
   "metadata": {},
   "outputs": [
    {
     "name": "stderr",
     "output_type": "stream",
     "text": [
      "  0%|                                                                                            | 0/2 [00:00<?, ?it/s]"
     ]
    },
    {
     "name": "stdout",
     "output_type": "stream",
     "text": [
      "Successfully created the directory C:\\Users\\User\\TikTok\\whatdotheylearn\n",
      "Папка \"audio_video\" успешно создана в папке whatdotheylearn текущей директории\n",
      "Видео найдено, всё хорошо! Начинаем загрузку видео и аудио в папку\n"
     ]
    },
    {
     "name": "stderr",
     "output_type": "stream",
     "text": [
      "  0%|                                                                                            | 0/2 [00:01<?, ?it/s]\n",
      "chunk:   0%|                                                                        | 0/1190 [00:00<?, ?it/s, now=None]\u001b[A\n",
      "chunk:  13%|███████▋                                                    | 153/1190 [00:00<00:00, 1466.21it/s, now=None]\u001b[A"
     ]
    },
    {
     "name": "stdout",
     "output_type": "stream",
     "text": [
      "MoviePy - Writing audio in C:\\Users\\User\\TikTok\\whatdotheylearn\\audio_video\\whatdotheylearn_6919958888049609986.wav\n"
     ]
    },
    {
     "name": "stderr",
     "output_type": "stream",
     "text": [
      "\n",
      "chunk:  40%|████████████████████████▏                                   | 480/1190 [00:00<00:00, 1754.13it/s, now=None]\u001b[A\n",
      "chunk:  69%|█████████████████████████████████████████▏                  | 816/1190 [00:00<00:00, 2032.86it/s, now=None]\u001b[A\n",
      "chunk:  97%|█████████████████████████████████████████████████████████  | 1151/1190 [00:00<00:00, 2299.97it/s, now=None]\u001b[A\n",
      "  0%|                                                                                            | 0/2 [00:02<?, ?it/s]\u001b[A"
     ]
    },
    {
     "name": "stdout",
     "output_type": "stream",
     "text": [
      "MoviePy - Done.\n",
      "Всё прошло успешно! Проверьте аудио и видео №1\n"
     ]
    },
    {
     "name": "stderr",
     "output_type": "stream",
     "text": [
      " 50%|██████████████████████████████████████████                                          | 1/2 [00:05<00:05,  5.78s/it]"
     ]
    },
    {
     "name": "stdout",
     "output_type": "stream",
     "text": [
      "Видео найдено, всё хорошо! Начинаем загрузку видео и аудио в папку\n"
     ]
    },
    {
     "name": "stderr",
     "output_type": "stream",
     "text": [
      " 50%|██████████████████████████████████████████                                          | 1/2 [00:06<00:05,  5.78s/it]\n",
      "chunk:   0%|                                                                         | 0/207 [00:00<?, ?it/s, now=None]\u001b[A\n",
      "chunk:  76%|██████████████████████████████████████████████▎              | 157/207 [00:00<00:00, 1554.81it/s, now=None]\u001b[A\n",
      " 50%|██████████████████████████████████████████                                          | 1/2 [00:07<00:05,  5.78s/it]\u001b[A"
     ]
    },
    {
     "name": "stdout",
     "output_type": "stream",
     "text": [
      "MoviePy - Writing audio in C:\\Users\\User\\TikTok\\whatdotheylearn\\audio_video\\whatdotheylearn_6947857113985076485.wav\n",
      "MoviePy - Done.\n",
      "Всё прошло успешно! Проверьте аудио и видео №2\n"
     ]
    },
    {
     "name": "stderr",
     "output_type": "stream",
     "text": [
      "100%|████████████████████████████████████████████████████████████████████████████████████| 2/2 [00:11<00:00,  5.55s/it]\n"
     ]
    },
    {
     "name": "stdout",
     "output_type": "stream",
     "text": [
      "Поздравляем! Код завершил свою работу\n"
     ]
    }
   ],
   "source": [
    "save_videos_audios_to_folder ('whatdotheylearn')"
   ]
  },
  {
   "cell_type": "markdown",
   "metadata": {},
   "source": [
    "# Сбор по вручную собранным ссылкам\n",
    "\n",
    "Для начала подготовьте csv-файл со списком ссылок, где каждая ссылка будет на отдельной строчке. Cписок будет выглядеть примерно так:\n",
    "* https://www.tiktok.com/@tuckerbudzyn/video/6957318988678335749\n",
    "* https://www.tiktok.com/@lactose_intolerable/video/6956505664675958017\n",
    "* https://www.tiktok.com/@mad__magic/video/6924405715364793606\n",
    "\n",
    "Для примера мы назвали файл 'Random_links.csv'."
   ]
  },
  {
   "cell_type": "code",
   "execution_count": 14,
   "metadata": {},
   "outputs": [],
   "source": [
    "collected_links = []\n",
    "with open ('Random_links.csv', newline = '', encoding = 'utf-8-sig') as links: \n",
    "    # utf-8-sig вместо utf-8 помогает избежать символов начала документа в первой строке\n",
    "    reader = csv.reader(links)\n",
    "    all_links_as_lists = list (reader) # Здесь каждая строка как список из одной ссылки (одного элемента)\n",
    "    for i in all_links_as_lists:\n",
    "        collected_links.append (i[0])"
   ]
  },
  {
   "cell_type": "code",
   "execution_count": 15,
   "metadata": {
    "scrolled": true
   },
   "outputs": [
    {
     "name": "stderr",
     "output_type": "stream",
     "text": [
      "  0%|                                                                                            | 0/3 [00:00<?, ?it/s]"
     ]
    },
    {
     "name": "stdout",
     "output_type": "stream",
     "text": [
      "Приступаем к парсингу уникальных характеристик видео\n",
      "Не переживайте, процесс может занять некоторое время\n"
     ]
    },
    {
     "name": "stderr",
     "output_type": "stream",
     "text": [
      "100%|████████████████████████████████████████████████████████████████████████████████████| 3/3 [00:16<00:00,  5.56s/it]\n"
     ]
    },
    {
     "name": "stdout",
     "output_type": "stream",
     "text": [
      "Записали уникальные характеристики видео в файл\n",
      "Приступаем к парсингу комментариев для видео\n",
      "Не переживайте, процесс может занять некоторое время\n",
      "Сложив числа между двумя плашками прогресса, вы можете навскидку сказать,\n",
      "сколько примерно комментариев под видео, которое парсится на данный момент.\n",
      "То есть если вы видите: \"50 Это не конец 49 Это конец\", то у видео больше 50, но меньше 100 комментариев\n",
      "Приступаем к сбору тэгов из подписей к видео\n",
      "#runawaychallenge\n",
      "#dogsoftiktok\n",
      "#fyp\n",
      "#australia\n",
      "#normativemalealexithymia\n",
      "#toxicmasculinity\n",
      "#wintermagic\n",
      "#crows\n",
      "#witchfamiliar\n",
      "#familiarspirit\n",
      "#babywitchtok\n",
      "#cottagecore\n",
      "#zodiacsign\n",
      "#fyp\n",
      "#HowTo\n",
      "#animalfriends\n",
      "#mirroring\n",
      "Записали вторую часть тэгов в файл\n",
      "Превращаем csv-файл тэгов в gexf-файл для создания графа\n",
      "Gexf-файл успешно сохранён\n",
      "Ура! Код завершил работу. Проверьте Ваши файлы\n"
     ]
    }
   ],
   "source": [
    "csv_links_parse (collected_links, 'Random')"
   ]
  },
  {
   "cell_type": "markdown",
   "metadata": {},
   "source": [
    "Создайте вручную папку по названию аккаунта и перенесите туда созданные папки."
   ]
  },
  {
   "cell_type": "code",
   "execution_count": 18,
   "metadata": {},
   "outputs": [
    {
     "name": "stderr",
     "output_type": "stream",
     "text": [
      "  0%|                                                                                            | 0/3 [00:00<?, ?it/s]"
     ]
    },
    {
     "name": "stdout",
     "output_type": "stream",
     "text": [
      "Creation of the directory C:\\Users\\User\\TikTok\\Random failed\n",
      "Папка \"audio_video\" успешно создана в папке Random текущей директории\n",
      "Видео найдено, всё хорошо! Начинаем загрузку видео и аудио в папку\n"
     ]
    },
    {
     "name": "stderr",
     "output_type": "stream",
     "text": [
      "  0%|                                                                                            | 0/3 [00:02<?, ?it/s]\n",
      "chunk:   0%|                                                                         | 0/669 [00:00<?, ?it/s, now=None]\u001b[A\n",
      "chunk:  23%|█████████████▉                                               | 153/669 [00:00<00:00, 1485.45it/s, now=None]\u001b[A"
     ]
    },
    {
     "name": "stdout",
     "output_type": "stream",
     "text": [
      "MoviePy - Writing audio in C:\\Users\\User\\TikTok\\Random\\audio_video\\Random_6957318988678335749.wav\n"
     ]
    },
    {
     "name": "stderr",
     "output_type": "stream",
     "text": [
      "\n",
      "chunk:  70%|██████████████████████████████████████████▊                  | 470/669 [00:00<00:00, 1764.23it/s, now=None]\u001b[A\n",
      "  0%|                                                                                            | 0/3 [00:02<?, ?it/s]\u001b[A"
     ]
    },
    {
     "name": "stdout",
     "output_type": "stream",
     "text": [
      "MoviePy - Done.\n",
      "Всё прошло успешно! Проверьте аудио и видео №1\n"
     ]
    },
    {
     "name": "stderr",
     "output_type": "stream",
     "text": [
      " 33%|████████████████████████████                                                        | 1/3 [00:08<00:16,  8.36s/it]"
     ]
    },
    {
     "name": "stdout",
     "output_type": "stream",
     "text": [
      "Видео найдено, всё хорошо! Начинаем загрузку видео и аудио в папку\n"
     ]
    },
    {
     "name": "stderr",
     "output_type": "stream",
     "text": [
      " 33%|████████████████████████████                                                        | 1/3 [00:10<00:16,  8.36s/it]\n",
      "chunk:   0%|                                                                        | 0/1307 [00:00<?, ?it/s, now=None]\u001b[A\n",
      "chunk:  12%|███████                                                     | 153/1307 [00:00<00:00, 1485.45it/s, now=None]\u001b[A"
     ]
    },
    {
     "name": "stdout",
     "output_type": "stream",
     "text": [
      "MoviePy - Writing audio in C:\\Users\\User\\TikTok\\Random\\audio_video\\Random_6956505664675958017.wav\n"
     ]
    },
    {
     "name": "stderr",
     "output_type": "stream",
     "text": [
      "\n",
      "chunk:  37%|█████████████████████▉                                      | 478/1307 [00:00<00:00, 1771.58it/s, now=None]\u001b[A\n",
      "chunk:  62%|█████████████████████████████████████▍                      | 816/1307 [00:00<00:00, 2059.05it/s, now=None]\u001b[A\n",
      "chunk:  88%|████████████████████████████████████████████████████       | 1154/1307 [00:00<00:00, 2327.71it/s, now=None]\u001b[A\n",
      " 33%|████████████████████████████                                                        | 1/3 [00:10<00:16,  8.36s/it]\u001b[A"
     ]
    },
    {
     "name": "stdout",
     "output_type": "stream",
     "text": [
      "MoviePy - Done.\n",
      "Всё прошло успешно! Проверьте аудио и видео №2\n"
     ]
    },
    {
     "name": "stderr",
     "output_type": "stream",
     "text": [
      " 67%|████████████████████████████████████████████████████████                            | 2/3 [00:13<00:07,  7.48s/it]"
     ]
    },
    {
     "name": "stdout",
     "output_type": "stream",
     "text": [
      "Видео найдено, всё хорошо! Начинаем загрузку видео и аудио в папку\n"
     ]
    },
    {
     "name": "stderr",
     "output_type": "stream",
     "text": [
      " 67%|████████████████████████████████████████████████████████                            | 2/3 [00:15<00:07,  7.48s/it]\n",
      "chunk:   0%|                                                                        | 0/1295 [00:00<?, ?it/s, now=None]\u001b[A\n",
      "chunk:  12%|███████                                                     | 153/1295 [00:00<00:00, 1500.04it/s, now=None]\u001b[A"
     ]
    },
    {
     "name": "stdout",
     "output_type": "stream",
     "text": [
      "MoviePy - Writing audio in C:\\Users\\User\\TikTok\\Random\\audio_video\\Random_6924405715364793606.wav\n"
     ]
    },
    {
     "name": "stderr",
     "output_type": "stream",
     "text": [
      "\n",
      "chunk:  37%|██████████████████████▍                                     | 485/1295 [00:00<00:00, 1792.38it/s, now=None]\u001b[A\n",
      "chunk:  62%|█████████████████████████████████████▎                      | 806/1295 [00:00<00:00, 2066.10it/s, now=None]\u001b[A\n",
      "chunk:  87%|███████████████████████████████████████████████████        | 1122/1295 [00:00<00:00, 2285.53it/s, now=None]\u001b[A\n",
      " 67%|████████████████████████████████████████████████████████                            | 2/3 [00:16<00:07,  7.48s/it]\u001b[A"
     ]
    },
    {
     "name": "stdout",
     "output_type": "stream",
     "text": [
      "MoviePy - Done.\n",
      "Всё прошло успешно! Проверьте аудио и видео №3\n"
     ]
    },
    {
     "name": "stderr",
     "output_type": "stream",
     "text": [
      "100%|████████████████████████████████████████████████████████████████████████████████████| 3/3 [00:20<00:00,  6.88s/it]\n"
     ]
    },
    {
     "name": "stdout",
     "output_type": "stream",
     "text": [
      "Поздравляем! Код завершил свою работу\n"
     ]
    }
   ],
   "source": [
    "save_videos_audios_to_folder ('Random')"
   ]
  },
  {
   "cell_type": "markdown",
   "metadata": {},
   "source": [
    "Автор кода: Мария Казакова (@undine_su_menulio), Москва, 2021.\n",
    "\n",
    "Контакты: marikasakowa@gmail.com"
   ]
  }
 ],
 "metadata": {
  "kernelspec": {
   "display_name": "Python 3",
   "language": "python",
   "name": "python3"
  },
  "language_info": {
   "codemirror_mode": {
    "name": "ipython",
    "version": 3
   },
   "file_extension": ".py",
   "mimetype": "text/x-python",
   "name": "python",
   "nbconvert_exporter": "python",
   "pygments_lexer": "ipython3",
   "version": "3.7.4"
  }
 },
 "nbformat": 4,
 "nbformat_minor": 2
}
